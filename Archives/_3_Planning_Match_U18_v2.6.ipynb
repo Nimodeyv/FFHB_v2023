{
 "cells": [
  {
   "cell_type": "markdown",
   "metadata": {},
   "source": [
    "# <img src=\"./logo_transparent.png\" width=\"70\"> Step3 - Planning des matchs <img src=\"./logoffhb.png\" width=\"100\"> "
   ]
  },
  {
   "cell_type": "code",
   "execution_count": 1,
   "metadata": {},
   "outputs": [],
   "source": [
    "import pandas as pd\n",
    "import sqlite3\n",
    "#Creation des invitation ics\n",
    "from icalendar import Calendar, Event\n",
    "import pytz\n",
    "from datetime import datetime\n",
    "import os\n",
    "from pathlib import Path\n",
    "import time\n",
    "import ipywidgets as widgets\n",
    "from IPython.display import display"
   ]
  },
  {
   "cell_type": "code",
   "execution_count": 2,
   "metadata": {},
   "outputs": [],
   "source": [
    "#start = time.time() # To measure time\n",
    "pd.set_option('display.max_rows', None) # Show all raws from pandas df\n",
    "# Saving in HTML file\n",
    "html_string = '''\n",
    "    <html>\n",
    "      <head><title>HTML Pandas Dataframe with CSS</title></head>\n",
    "      <link rel=\"stylesheet\" type=\"text/css\" href=\"df_style.css\"/>\n",
    "      <body>\n",
    "        {table}\n",
    "      </body>\n",
    "    </html>.\n",
    "    '''"
   ]
  },
  {
   "cell_type": "code",
   "execution_count": 3,
   "metadata": {},
   "outputs": [],
   "source": [
    "conn = sqlite3.connect('Championnat_U18_GrandEst.sqlite')\n",
    "cur = conn.cursor()\n",
    "df = pd.read_sql_query(\"SELECT * FROM Matchs\", conn)"
   ]
  },
  {
   "cell_type": "code",
   "execution_count": 4,
   "metadata": {},
   "outputs": [],
   "source": [
    "cal = Calendar()\n",
    "#cal.add('attendee', 'MAILTO:magali.capelli@garrettmotion.com')\n",
    "#cal.add('attendee', 'MAILTO:xyz@example.com')"
   ]
  },
  {
   "cell_type": "code",
   "execution_count": 5,
   "metadata": {},
   "outputs": [],
   "source": [
    "def add_event(J,D,M,A):\n",
    "    # print(J,D,M,A)\n",
    "    event = Event()\n",
    "    event.add('summary', M.replace(\".pdf\",\"\")+D)\n",
    "    when = D.split()\n",
    "    #print(when)\n",
    "    month = {'janvier':1,'février':2,'mars':3,'avril':4,'mai':5,'juin':6,'juillet':7,'aout':8,'septembre':9,'octobre':10,'novembre':11,'dÃ©cembre':12 }\n",
    "    if month[when[2]] > 8:\n",
    "        year = datetime.today().year\n",
    "    else :\n",
    "        year = datetime.today().year +1\n",
    "    heure = when[3].split('H')\n",
    "    event.add('attendee',\"magali.capelli@garrettmotion.com\")\n",
    "    event.add('dtstart', datetime(year, month[when[2]], int(when[1]), int((when[3].split('H'))[0])-1, int((when[3].split('H'))[1]), 0, tzinfo=pytz.timezone(\"Europe/Paris\")))\n",
    "    event.add('dtend', datetime(year, month[when[2]], int(when[1]), int((when[3].split('H'))[0])-1+2, int((when[3].split('H'))[1]), 0, tzinfo=pytz.timezone(\"Europe/Paris\")))\n",
    "    #event.add('dtstamp', datetime(year, 4, 4, 0, 10, 0, tzinfo=pytz.timezone(\"Europe/Paris\")))\n",
    "    event.add('location', A)\n",
    "    # Adding events to calendar\n",
    "    #print(event)\n",
    "    cal.add_component(event)"
   ]
  },
  {
   "cell_type": "code",
   "execution_count": 11,
   "metadata": {},
   "outputs": [],
   "source": [
    "# DEFINITION DE LA LISTE DES EQUIPE\n",
    "Liste_equipe =[]\n",
    "for e in df['equipe_dom'].unique():\n",
    "    if e not in Liste_equipe: Liste_equipe.append(e)\n",
    "for e in df['equipe_ext'].unique():\n",
    "    if e not in Liste_equipe: Liste_equipe.append(e)\n",
    "Liste_equipe.append('Toutes les équipes')"
   ]
  },
  {
   "cell_type": "code",
   "execution_count": 12,
   "metadata": {},
   "outputs": [],
   "source": [
    "df=df.replace('—','')\n",
    "df=df.replace('— —','')\n",
    "df=df.replace('— — —','')\n",
    "df[['Journee','Periode','Date','equipe_dom','score_dom','score_ext','equipe_ext','lieu','arbitres']]\n",
    "with open(f'./PLANNING/Planning_des_Matchs.html', 'w') as f:\n",
    "        f.write(html_string.format(table=df[['Journee','Periode','Date','equipe_dom','score_dom','score_ext','equipe_ext','lieu','arbitres']].to_html(classes='mystyle',index=False,na_rep='-')))"
   ]
  },
  {
   "cell_type": "code",
   "execution_count": 13,
   "metadata": {},
   "outputs": [
    {
     "name": "stdout",
     "output_type": "stream",
     "text": [
      "Le nombre total de matchs plannifié est de: 38\n",
      "Le nombre de matchs plannifié pour EPINAL est de: \n",
      "    à domicile: 1 \n",
      "    à l'extérieur: 3\n"
     ]
    }
   ],
   "source": [
    "print(f'Le nombre total de matchs plannifié est de: {df[df[\"lieu\"]!=\"\"].shape[0]}')\n",
    "print(f'''Le nombre de matchs plannifié pour EPINAL est de: \n",
    "    à domicile: {df[(df[\"lieu\"]!=\"\") & (df[\"equipe_dom\"]==\"EPINAL U18M\")].shape[0]} \n",
    "    à l'extérieur: {df[(df[\"lieu\"]!=\"\") & (df[\"equipe_ext\"]==\"EPINAL U18M\")].shape[0]}''')"
   ]
  },
  {
   "cell_type": "code",
   "execution_count": 34,
   "metadata": {},
   "outputs": [],
   "source": [
    "#Equipe = 'EPINAL U18M'\n",
    "def show_planning(Equipe='EPINAL U18M'):\n",
    "    if Equipe != 'Toutes les équipes':\n",
    "        df2 = df[(df['equipe_dom']==Equipe) | (df['equipe_ext']==Equipe)][['Journee','Periode','Date','equipe_dom','score_dom','score_ext','equipe_ext','lieu','arbitres']]\n",
    "        df2.sort_values(by=['Journee'],ascending=True, inplace=True)\n",
    "        display(df2)\n",
    "        for i in df2.index:\n",
    "            try:\n",
    "                # print(df.loc[i]['Journee'],df.loc[i]['Date'],df.loc[i]['fichier'],df.loc[i]['lieu'])\n",
    "                add_event(df.loc[i]['Journee'],df.loc[i]['Date'],df.loc[i]['fichier'],df.loc[i]['lieu'])\n",
    "            except:\n",
    "                pass\n",
    "        f= open('./PLANNING/'+Equipe+'_Planning_des_Matchs.ics','wb')\n",
    "        f.write(cal.to_ical())\n",
    "        f.close()\n",
    "        pd.set_option('colheader_justify', 'center')   # FOR TABLE <th>\n",
    "        # OUTPUT AN HTML FILE\n",
    "        with open(f'./PLANNING/{Equipe}_Planning_des_Matchs.html', 'w') as f:\n",
    "            f.write(html_string.format(table=df2.to_html(classes='mystyle',index=False,na_rep='-')))\n",
    "        #df2.to_csv('./PLANNING/'+Equipe+'_Planning_des_Matchs.csv',index=False ) # save le pandadataframe dans un fichier csv\n",
    "    else:\n",
    "        display(df[['Journee','Periode','Date','equipe_dom','score_dom','score_ext','equipe_ext','lieu','arbitres']].sort_values(by=['Journee'],ascending=True, inplace=False))"
   ]
  },
  {
   "cell_type": "code",
   "execution_count": 33,
   "metadata": {},
   "outputs": [
    {
     "data": {
      "application/vnd.jupyter.widget-view+json": {
       "model_id": "634c8a5b2c8d4ab3aa8e5958b5cd461c",
       "version_major": 2,
       "version_minor": 0
      },
      "text/plain": [
       "interactive(children=(Dropdown(description='Equipe', options=('EPINAL U18M', 'METZ U18M', 'VERDUN U18M', \"ENT …"
      ]
     },
     "metadata": {},
     "output_type": "display_data"
    },
    {
     "data": {
      "text/plain": [
       "<function __main__.show_planning(Equipe='EPINAL U18M')>"
      ]
     },
     "execution_count": 33,
     "metadata": {},
     "output_type": "execute_result"
    }
   ],
   "source": [
    "widgets.interact(show_planning, Equipe=Liste_equipe)"
   ]
  },
  {
   "cell_type": "code",
   "execution_count": 10,
   "metadata": {},
   "outputs": [],
   "source": [
    "#print('Task completed in', time.time() - start,'seconds')"
   ]
  },
  {
   "cell_type": "code",
   "execution_count": null,
   "metadata": {},
   "outputs": [],
   "source": []
  },
  {
   "cell_type": "code",
   "execution_count": null,
   "metadata": {},
   "outputs": [],
   "source": []
  },
  {
   "cell_type": "code",
   "execution_count": null,
   "metadata": {},
   "outputs": [],
   "source": []
  }
 ],
 "metadata": {
  "kernelspec": {
   "display_name": "Python 3 (ipykernel)",
   "language": "python",
   "name": "python3"
  },
  "language_info": {
   "codemirror_mode": {
    "name": "ipython",
    "version": 3
   },
   "file_extension": ".py",
   "mimetype": "text/x-python",
   "name": "python",
   "nbconvert_exporter": "python",
   "pygments_lexer": "ipython3",
   "version": "3.9.5"
  }
 },
 "nbformat": 4,
 "nbformat_minor": 4
}
