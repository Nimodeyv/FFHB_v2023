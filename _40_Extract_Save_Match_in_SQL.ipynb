{
 "cells": [
  {
   "cell_type": "markdown",
   "id": "788c8d7e-8216-4e30-86ab-07e31774907b",
   "metadata": {
    "tags": []
   },
   "source": [
    "# <img src=\"./logo_transparent.png\" width=\"70\"> Step4 - Extraction des matchs <img src=\"./logoffhb.png\" width=\"100\"> "
   ]
  },
  {
   "cell_type": "code",
   "execution_count": 1,
   "id": "4a6a539e",
   "metadata": {
    "tags": []
   },
   "outputs": [],
   "source": [
    "import glob\n",
    "import pdfplumber\n",
    "import re\n",
    "from collections import defaultdict\n",
    "import sqlite3\n",
    "#import pandas as pd"
   ]
  },
  {
   "cell_type": "markdown",
   "id": "ffa8b192",
   "metadata": {},
   "source": [
    "# Liste des fichiers dans le répertoire FDM"
   ]
  },
  {
   "cell_type": "code",
   "execution_count": 2,
   "id": "05f3b66d",
   "metadata": {
    "scrolled": true
   },
   "outputs": [
    {
     "name": "stdout",
     "output_type": "stream",
     "text": [
      "Nombre de matchs dans le répertoire FDM: 1\n"
     ]
    }
   ],
   "source": [
    "lst= glob.glob(\"./FDM/*.pdf\")\n",
    "print('Nombre de matchs dans le répertoire FDM:',len(lst))\n",
    "#for l in lst:\n",
    "#    print(l)"
   ]
  },
  {
   "cell_type": "markdown",
   "id": "1a9b7c8c",
   "metadata": {},
   "source": [
    " # Liste des matchs dans la base SQL"
   ]
  },
  {
   "cell_type": "code",
   "execution_count": 3,
   "id": "a9eed916",
   "metadata": {},
   "outputs": [
    {
     "name": "stdout",
     "output_type": "stream",
     "text": [
      "Nombre de matchs dans la base SQL: 0\n"
     ]
    }
   ],
   "source": [
    "lst_sql =[]\n",
    "conn = sqlite3.connect('Championnat_U18_GrandEst.sqlite')\n",
    "cur = conn.cursor()\n",
    "cur.execute('''CREATE TABLE IF NOT EXISTS Championnat  (\n",
    "    ID TEXT NOT NULL PRIMARY KEY UNIQUE,\n",
    "    fichier TEXT,\n",
    "    Journee INTEGER,\n",
    "    equipe_dom TEXT,\n",
    "    equipe_ext TEXT,\n",
    "    Min TEXT,\n",
    "    Sec TEXT,\n",
    "    score_dom INTEGER,\n",
    "    score_ext INTEGER,\n",
    "    Action TEXT,\n",
    "    Action_equipe,\n",
    "    Numero TEXT, \n",
    "    Joueur TEXT\n",
    "    )''')\n",
    "cur.execute('SELECT * FROM Championnat')\n",
    "rows = cur.fetchall()\n",
    "for row in rows:\n",
    "    if row[1] not in lst_sql: lst_sql.append(row[1])\n",
    "print('Nombre de matchs dans la base SQL:',len(lst_sql))\n",
    "#print(lst_sql)"
   ]
  },
  {
   "cell_type": "markdown",
   "id": "fc927e6e",
   "metadata": {},
   "source": [
    "# Liste des matchs dans FDM mais pas dans SQL"
   ]
  },
  {
   "cell_type": "code",
   "execution_count": 4,
   "id": "e9cbe22e",
   "metadata": {},
   "outputs": [
    {
     "name": "stdout",
     "output_type": "stream",
     "text": [
      "['./FDM\\\\1_COLMAR HC U18M-EPINAL U18M.pdf']\n"
     ]
    }
   ],
   "source": [
    "match_to_extract = [m for m in lst if m.replace('./FDM\\\\','') not in lst_sql]\n",
    "# print(match_to_extract)"
   ]
  },
  {
   "cell_type": "code",
   "execution_count": 5,
   "id": "2e04c6f7",
   "metadata": {},
   "outputs": [],
   "source": [
    "def extract(action,equipe_dom,equipe_ext):\n",
    "    act = {}\n",
    "    action = action.split(' ')\n",
    "    #print(action)\n",
    "    act['Min']=action[0].split(':')[0]\n",
    "    act['Sec']=action[0].split(':')[1]\n",
    "    act['score_dom']=action[1].split('-')[0]\n",
    "    act['score_ext']=action[1].split('-')[1]\n",
    "    a=action[2]\n",
    "    if 'TempsMort'  in a: \n",
    "        act['Action']=a\n",
    "        act['Action_equipe']='NA'\n",
    "        act['Numero']='NA'\n",
    "        act['Joueur'] ='NA'\n",
    "    else:\n",
    "        if '°' in a:\n",
    "            act['Numero'] = re.findall('°\\d+',a)[0].replace('°','')\n",
    "            act['Joueur'] = a[a.index(re.findall('°\\d+',a)[0])+1+len(act['Numero']):]\n",
    "        elif 'OV' in a:\n",
    "            act['Numero']='OV'\n",
    "            act['Joueur']=a[a.index('OV')+2:]\n",
    "        elif 'OR' in a:\n",
    "            act['Numero']='OR'\n",
    "            act['Joueur']=a[a.index('OR')+2:]\n",
    "        if 'But7m' in a: act['Action']='But7m'\n",
    "        elif 'But' in a: act['Action']='But'\n",
    "        elif 'Tir' in a: act['Action']='Tir'\n",
    "        elif 'Avertissement' in a: act['Action']='Avertissement'\n",
    "        elif 'Arrêt' in a: act['Action']='Arrêt'\n",
    "        elif '2MN' in a: act['Action']='2MN'\n",
    "        elif 'DisqualificationavecRapport' in a: act['Action']='DisqualificationavecRapport'\n",
    "        elif 'DisqualificationImmédiate' in a: act['Action']='DisqualificationImmédiate'   \n",
    "        elif 'EntréeGardien' in a: act['Action']='EntréeGardien' \n",
    "        elif 'ProtocoleCommotion' in a: act['Action']='ProtocoleCommotion'     \n",
    "        else: print(a, 'Action non identifiée ! Check')\n",
    "        if 'JV' in a or 'OV' in a:  act['Action_equipe']=equipe_ext\n",
    "        elif 'JR' in a or 'OR' in a:  act['Action_equipe']=equipe_dom \n",
    "        else: print(a, 'Equipe joueur non identifiée')\n",
    "    #print(act)\n",
    "    return act"
   ]
  },
  {
   "cell_type": "code",
   "execution_count": 6,
   "id": "0957c704",
   "metadata": {},
   "outputs": [],
   "source": [
    "def scan_page(page,equipe_dom,equipe_ext):\n",
    "    déroulé=[]\n",
    "    for l in page.extract_text().split('\\n'):\n",
    "        #print(l)\n",
    "        if ':' in l:\n",
    "            temps = re.findall('\\d\\d:\\d\\d',l) \n",
    "            if len(temps)==2:\n",
    "                l1=l[:l.index(temps[1])-1]\n",
    "                l2=l[l.index(temps[1]):]\n",
    "                déroulé.append(extract(l1,equipe_dom,equipe_ext))\n",
    "                déroulé.append(extract(l2,equipe_dom,equipe_ext))\n",
    "            else:\n",
    "                l= l[l.index(':')-2:]\n",
    "                déroulé.append(extract(l,equipe_dom,equipe_ext))\n",
    "    return déroulé  "
   ]
  },
  {
   "cell_type": "code",
   "execution_count": 7,
   "id": "02311926",
   "metadata": {},
   "outputs": [],
   "source": [
    "def save_sql(deroul,fic,jour,eq_dom,eq_ext):\n",
    "    conn = sqlite3.connect('Championnat_U18_GrandEst.sqlite')\n",
    "    cur = conn.cursor()\n",
    "    cur.execute('''CREATE TABLE IF NOT EXISTS Championnat  (\n",
    "        ID TEXT NOT NULL PRIMARY KEY UNIQUE, \n",
    "        fichier TEXT,\n",
    "        Journee INTEGER,\n",
    "        equipe_dom TEXT,\n",
    "        equipe_ext TEXT,\n",
    "        Min TEXT,\n",
    "        Sec TEXT,\n",
    "        score_dom INTEGER,\n",
    "        score_ext INTEGER,\n",
    "        Action TEXT,\n",
    "        Action_equipe TEXT,\n",
    "        Numero TEXT,\n",
    "        Joueur TEXT\n",
    "        )''')\n",
    "    for act in deroul:\n",
    "        ID = fic+act['Min']+act['Sec']+act['Action']+act['score_dom']+act['score_ext']+act['Joueur']\n",
    "        cur.execute('''INSERT OR REPLACE INTO Championnat (ID, fichier,Journee, equipe_dom, equipe_ext,Min,Sec,score_dom,score_ext,Action,Action_equipe,Numero,Joueur) \n",
    "        VALUES (?,?,?,?,?,?,?,?,?,?,?,?,?)''', (ID,fic,jour,eq_dom,eq_ext,act['Min'],act['Sec'],act['score_dom'],act['score_ext'],act['Action'],act['Action_equipe'],act['Numero'],act['Joueur']))\n",
    "    conn.commit()"
   ]
  },
  {
   "cell_type": "code",
   "execution_count": 8,
   "id": "de111dd9",
   "metadata": {},
   "outputs": [],
   "source": [
    "def read_file(file):\n",
    "    # Ouvre le fichier\n",
    "    pdf = pdfplumber.open(file)\n",
    "    fichier=file.replace('./FDM\\\\','')\n",
    "    Journee = file.split('-')[0].split('_')[0].replace('./FDM\\\\','')\n",
    "    equipe_dom = file.split('-')[0].split('_')[1]\n",
    "    equipe_ext = file.split('-')[1].replace('.pdf','')\n",
    "    print('fichier:',fichier)\n",
    "    # print('Journee:',Journee)\n",
    "    # print('Equipe Domicile:',equipe_dom,'| Equipe Exterieure:',equipe_ext)\n",
    "    # Lit la premiere page\n",
    "    first_page = pdf.pages[0]\n",
    "    # Extrait la deuxieme et eventuellement la 3eme page\n",
    "    pages =[]\n",
    "    pages.append(pdf.pages[1])\n",
    "    try:\n",
    "        pages.append(pdf.pages[2])\n",
    "    except:\n",
    "        print('Pas de page 2')\n",
    "    for p in pages:\n",
    "        déroulé = scan_page(p,equipe_dom,equipe_ext)\n",
    "        # Enregistre la page dans la base de données sql\n",
    "        save_sql(déroulé,fichier,Journee,equipe_dom,equipe_ext)\n",
    "        #"
   ]
  },
  {
   "cell_type": "code",
   "execution_count": 9,
   "id": "b6a3f115",
   "metadata": {
    "scrolled": true,
    "tags": []
   },
   "outputs": [
    {
     "name": "stdout",
     "output_type": "stream",
     "text": [
      "fichier: 1_COLMAR HC U18M-EPINAL U18M.pdf\n",
      "Journee: 1\n",
      "Equipe Domicile: COLMAR HC U18M | Equipe Exterieure: EPINAL U18M\n",
      "Pas de page 2\n"
     ]
    }
   ],
   "source": [
    "for m in match_to_extract:\n",
    "    read_file(m)\n",
    "print('Task completed')"
   ]
  },
  {
   "cell_type": "code",
   "execution_count": 10,
   "id": "d79ab7e0",
   "metadata": {},
   "outputs": [],
   "source": [
    "conn.close()"
   ]
  },
  {
   "cell_type": "code",
   "execution_count": null,
   "id": "97a23e97",
   "metadata": {},
   "outputs": [],
   "source": []
  }
 ],
 "metadata": {
  "kernelspec": {
   "display_name": "Python 3 (ipykernel)",
   "language": "python",
   "name": "python3"
  },
  "language_info": {
   "codemirror_mode": {
    "name": "ipython",
    "version": 3
   },
   "file_extension": ".py",
   "mimetype": "text/x-python",
   "name": "python",
   "nbconvert_exporter": "python",
   "pygments_lexer": "ipython3",
   "version": "3.9.5"
  }
 },
 "nbformat": 4,
 "nbformat_minor": 5
}
