{
 "cells": [
  {
   "cell_type": "markdown",
   "id": "f4939f0a-374d-4f18-a1d0-b2e29e117a5b",
   "metadata": {
    "tags": []
   },
   "source": [
    "# <img src=\"./logo_transparent.png\" width=\"70\"> Step8 - Déroulé du Match et Video  <img src=\"./logoffhb.png\" width=\"100\"> "
   ]
  },
  {
   "cell_type": "code",
   "execution_count": null,
   "id": "2a9bd43d-d4bc-47c6-a824-3059c1143a3a",
   "metadata": {
    "tags": []
   },
   "outputs": [],
   "source": [
    "from collections import defaultdict\n",
    "import sqlite3\n",
    "import pandas as pd\n",
    "import matplotlib.pyplot as plt\n",
    "from bqplot import pyplot as bqplt\n",
    "from bqplot import Tooltip,interacts\n",
    "from ipywidgets import Layout, Dropdown, Button\n",
    "from ipywidgets import Image as ImageIpy\n",
    "import ipywidgets as widgets\n",
    "from IPython.display import display, HTML, Video\n",
    "from ipywidgets.embed import embed_minimal_html\n",
    "import numpy as np\n",
    "import cv2\n",
    "import glob, os\n",
    "from datetime import datetime,timedelta\n",
    "import re\n",
    "pd.set_option('display.max_rows', None) # Show all raws from pandas df\n",
    "from PIL import Image"
   ]
  },
  {
   "cell_type": "markdown",
   "id": "ac2f3a3a-d409-4565-b00e-12266e6373d4",
   "metadata": {},
   "source": [
    "# Actions du match (déroulé)"
   ]
  },
  {
   "cell_type": "code",
   "execution_count": null,
   "id": "c0b2fdf3-afc6-47d7-8632-efc9c2458e13",
   "metadata": {
    "tags": []
   },
   "outputs": [],
   "source": [
    "        # 0  ID TEXT NOT NULL PRIMARY KEY UNIQUE, \n",
    "        # 1  fichier TEXT,\n",
    "        # 2  Journée INTEGER,\n",
    "        # 3  equipe_dom TEXT,\n",
    "        # 4  equipe_ext TEXT,\n",
    "        # 5  Min TEXT,\n",
    "        # 6  Sec TEXT,\n",
    "        # 7  score_dom INTEGER,\n",
    "        # 8  score_ext INTEGER,\n",
    "        # 9  Action TEXT,\n",
    "        # 10 Action_equipe TEXT,\n",
    "        # 11 Numero TEXT,\n",
    "        # 12 Joueur TEXT"
   ]
  },
  {
   "cell_type": "code",
   "execution_count": null,
   "id": "4aa739ad-2913-4182-8574-5128e5d4d596",
   "metadata": {},
   "outputs": [],
   "source": [
    "championnat =[]\n",
    "conn = sqlite3.connect('Championnat_U18_GrandEst.sqlite')\n",
    "cur = conn.cursor()\n",
    "cur.execute('SELECT * FROM Championnat ')  #WHERE Joueur = ? ', ('MORANDanthony',)\n",
    "rows = cur.fetchall()\n",
    "for row in rows:\n",
    "    line ={}\n",
    "    line['fichier']= row[1]\n",
    "    line['Journée'] = row[2]\n",
    "    line['equipe_dom']=row[3]\n",
    "    line['equipe_ext']=row[4]\n",
    "    line['Min']=row[5]\n",
    "    line['Sec']=row[6]\n",
    "    line['score_dom']=row[7]\n",
    "    line['score_ext']=row[8]\n",
    "    line['Action'] =row[9]\n",
    "    line['Action_equipe'] =row[10]\n",
    "    line['Joueur']=row[12]\n",
    "    championnat.append(line)\n",
    "conn.close()"
   ]
  },
  {
   "cell_type": "code",
   "execution_count": null,
   "id": "a7bb0c39-5150-45bc-9b3e-07a3035cfdc9",
   "metadata": {},
   "outputs": [],
   "source": [
    "print(\"Nombre d'actions du championnat:\",len(championnat))"
   ]
  },
  {
   "cell_type": "code",
   "execution_count": null,
   "id": "4698e8e1-2129-4953-a5f8-3e823ff90692",
   "metadata": {
    "scrolled": true
   },
   "outputs": [],
   "source": [
    "df = pd.DataFrame(championnat)\n",
    "df['Min']=df['Min'].astype(int)\n",
    "df['Sec']=df['Sec'].astype(int)\n",
    "df['Temps']=df['Min']+df['Sec']/60"
   ]
  },
  {
   "cell_type": "code",
   "execution_count": null,
   "id": "6d8c15f2-efa3-4649-bc83-34465659c36d",
   "metadata": {},
   "outputs": [],
   "source": [
    "df['fichier'].unique()"
   ]
  },
  {
   "cell_type": "code",
   "execution_count": null,
   "id": "97558177-a161-41e5-b387-9db90385428b",
   "metadata": {},
   "outputs": [],
   "source": [
    "def Creation_df_m():\n",
    "    global df_m,eq_dom,eq_ext\n",
    "    df_m=df[df['fichier']==match_sélectionné.value].sort_values(by='Temps')\n",
    "    df_m['Full_Action']=df_m.apply(lambda row: f'{row.Action} {row.Joueur}', axis=1)\n",
    "    eq_dom = df_m['equipe_dom'].unique()[0]\n",
    "    eq_ext = df_m['equipe_ext'].unique()[0]\n",
    "    for i,l in df_m.iterrows():\n",
    "        if l.Action == \"TempsMortd'EquipeVisiteur\": df_m.loc[i,'Action_equipe']=eq_ext\n",
    "        if l.Action == \"TempsMortd'EquipeRecevant\": df_m.loc[i,'Action_equipe']=eq_dom\n",
    "        if l.Action_equipe == eq_dom: df_m.loc[i,'Score_action_equipe']=l.score_dom\n",
    "        elif l.Action_equipe == eq_ext: df_m.loc[i,'Score_action_equipe']=l.score_ext"
   ]
  },
  {
   "cell_type": "markdown",
   "id": "c5072b41-8fd1-41e4-a239-3d71c8633bf5",
   "metadata": {},
   "source": [
    "# Load Video"
   ]
  },
  {
   "cell_type": "code",
   "execution_count": null,
   "id": "39e27cea-5df6-4969-af78-18aa55445a13",
   "metadata": {},
   "outputs": [],
   "source": [
    "def analyse_video(f):\n",
    "    video_dict={}\n",
    "    video_dict['file']=f[f.find('\\\\')+1:]\n",
    "    cap = cv2.VideoCapture(f)\n",
    "    video_dict['fps']= cap.get(cv2.CAP_PROP_FPS)      # OpenCV v2.x used \"CV_CAP_PROP_FPS\"\n",
    "    video_dict['frame_count']=  int(cap.get(cv2.CAP_PROP_FRAME_COUNT))\n",
    "    video_dict['duration_sec']=video_dict['frame_count']/video_dict['fps']\n",
    "    video_dict['minutes']=int(video_dict['duration_sec']/60)\n",
    "    video_dict['seconds']=int(video_dict['duration_sec']%60)\n",
    "    end_time = datetime.fromtimestamp(os.path.getmtime(f))\n",
    "    video_dict['start_time']=end_time -timedelta(minutes=video_dict['minutes'],seconds=video_dict['seconds'])\n",
    "    video_dict['end_time']=datetime.fromtimestamp(os.path.getmtime(f))\n",
    "    cap.release()\n",
    "    return video_dict"
   ]
  },
  {
   "cell_type": "code",
   "execution_count": null,
   "id": "db18de5a-70b5-4f66-aabd-940ddc41528c",
   "metadata": {},
   "outputs": [],
   "source": [
    "def calc_cumul():\n",
    "    df_vid.loc[0,'T_start_cumul']=0\n",
    "    for i in range(df_vid.shape[0]-1):\n",
    "        if df_vid.loc[i+1,'T_start_cumul_forcé']!='':\n",
    "            df_vid.loc[i+1,'T_start_cumul']=df_vid.loc[i+1,'T_start_cumul_forcé']\n",
    "        else:\n",
    "            df_vid.loc[i+1,'T_start_cumul']=df_vid.loc[i,'T_start_cumul']+df_vid.loc[i,'Delta_Start_End'].seconds//60+df_vid.loc[i,'Delta_Start_End'].seconds%60/100*100/60\n",
    "    # df_vid['T_start_cumul']=df_vid['T_start_cumul'+n]"
   ]
  },
  {
   "cell_type": "code",
   "execution_count": null,
   "id": "df1c5e3e-4ea3-4790-9ff3-f2f2a93b0af2",
   "metadata": {},
   "outputs": [],
   "source": [
    "def load_videos():\n",
    "    global df_vid\n",
    "    videos =  []\n",
    "    for v in lst:\n",
    "        videos.append(analyse_video(v))\n",
    "    df_vid = pd.DataFrame(videos)\n",
    "    #\n",
    "    df_vid.sort_values(by='start_time', inplace=True)\n",
    "    df_vid.reset_index(inplace=True)\n",
    "    #\n",
    "    df_vid.loc[0,'Delta_Start_End']=df_vid.loc[0,'end_time']-df_vid.loc[0,'start_time']\n",
    "    df_vid['Delta_Break']=timedelta(minutes=0)\n",
    "    for i in range(df_vid.shape[0]-1):\n",
    "        df_vid.loc[i+1,'Delta_Start_End']=df_vid.loc[i+1,'end_time']-df_vid.loc[i+1,'start_time']\n",
    "        df_vid.loc[i+1,'Delta_Break']=df_vid.loc[i+1,'start_time']-df_vid.loc[i,'end_time']\n",
    "    #\n",
    "    df_vid['T_start_cumul_forcé']=''\n",
    "    df_vid['Comment']=''\n",
    "    # Premier calcul des temps sans corrections\n",
    "    calc_cumul()\n",
    "    #\n",
    "def detect_mi_temps():\n",
    "    # Detection mi-temps et forçage du temps \n",
    "    for i in range(df_vid.shape[0]-1):\n",
    "        if (df_vid.loc[i+1,'Delta_Break']>timedelta(minutes=8)) and (df_vid.loc[i+1,'Delta_Break']<timedelta(minutes=14)):\n",
    "            df_vid.loc[i+1,'Comment']='Mi-temps'\n",
    "            df_vid.loc[i+1,'T_start_cumul_forcé']=30  \n",
    "    calc_cumul()\n",
    "    # Liste des temps morts dans le déroulé du match\n",
    "def detect_TM():\n",
    "    TM=[]\n",
    "    print('LISTE DES TEMPS MORT DU MATCH')\n",
    "    for i,l in df_m.iterrows():\n",
    "        if 'TempsMort' in l.Action:\n",
    "            TM.append([i,l.Temps,l.Action])\n",
    "    print(TM)\n",
    "    # Detection temps mort et forçage du temps dans la base video\n",
    "    nb_TM=0\n",
    "    for i in range(df_vid.shape[0]-1):\n",
    "        # print(TM[nb_TM][1],df_vid.loc[i+1,'T_start_cumul'])\n",
    "        if nb_TM<len(TM):\n",
    "            if (df_vid.loc[i+1,'Delta_Break']>timedelta(seconds=40)) and (df_vid.loc[i+1,'Delta_Break']<timedelta(minutes=2) and abs(df_vid.loc[i+1,'T_start_cumul']-TM[nb_TM][1])<3):\n",
    "                df_vid.loc[i+1,'Comment']=TM[nb_TM][2]\n",
    "                df_vid.loc[i+1,'T_start_cumul_forcé']=TM[nb_TM][1]\n",
    "                # calc_cumul(str(nb_TM+2))\n",
    "                nb_TM+=1\n",
    "    calc_cumul()"
   ]
  },
  {
   "cell_type": "code",
   "execution_count": null,
   "id": "8a2e3510-d4ed-4fd7-badc-3d6b520b64aa",
   "metadata": {},
   "outputs": [],
   "source": [
    "def Ajout_temps_videos_dans_déroulé():\n",
    "    df_m['Temps_dans_video']=0\n",
    "    # print(df_vid.shape[0])\n",
    "    for i in range(df_vid.shape[0]): # Ecriture de la video dans le fichier df_m\n",
    "        print(i)\n",
    "        if i == (df_vid.shape[0]-1):\n",
    "             df_m.loc[(df_m['Temps']>=df_vid.loc[i,'T_start_cumul']),'file'] =df_vid.loc[i,'file']\n",
    "        else:\n",
    "            df_m.loc[(df_m['Temps']>=df_vid.loc[i,'T_start_cumul']) & (df_m['Temps']<=df_vid.loc[i+1,'T_start_cumul']),'file']=df_vid.loc[i,'file']\n",
    "    for j,l in df_m.iterrows(): # Ecriture du temps dans le fichier df_m pour chaque video\n",
    "        # print(j)\n",
    "        # print(df_m.loc[j,'Temps'])\n",
    "        # print(df_vid.loc[(df_vid['file']==df_m.loc[j,'file']),'T_start_cumul'].values[0])\n",
    "        a= df_m.loc[j,'Temps']-df_vid.loc[(df_vid['file']==df_m.loc[j,'file']),'T_start_cumul'].values[0]\n",
    "        df_m.loc[j,'Temps_dans_video']=a\n",
    "        df_m.loc[j,'Temps_dans_video2']=f'{int(a):02}:{round((a-int(a))*60):02}:00'\n",
    "    # Creation du label\n",
    "    df_m['label']=df_m.Full_Action+'  |  '+df_m.file+'  |  '+df_m.Temps_dans_video2\n",
    "    #"
   ]
  },
  {
   "cell_type": "code",
   "execution_count": null,
   "id": "1b900824-97ba-447e-abf6-38c7334660fe",
   "metadata": {},
   "outputs": [],
   "source": [
    "def Creation_df_domEText():\n",
    "    global df_m_dom, df_m_ext\n",
    "    df_m_dom=df_m[df_m['Action_equipe']==eq_dom].sort_values(by='Temps')\n",
    "    df_m_ext=df_m[df_m['Action_equipe']==eq_ext].sort_values(by='Temps')"
   ]
  },
  {
   "cell_type": "code",
   "execution_count": null,
   "id": "262ed5f2-ebda-4c54-b17f-d1b0ac2b127e",
   "metadata": {},
   "outputs": [],
   "source": [
    "opacité = 0.3\n",
    "def plot_déroulé(j,act):   \n",
    "    global df_m_d, df_m_e\n",
    "    bqplt.clear()\n",
    "    titre= f'{match_sélectionné.value.replace(\".pdf\",\"\")}'\n",
    "    fig=bqplt.figure(title=titre,legend_location='top-left')\n",
    "    # data\n",
    "    if  (j!='__All') and (act!='__All'):\n",
    "        if j in df_m_dom['Joueur'].unique():\n",
    "            df_m_d = df_m_dom[(df_m_dom['Joueur']==j) & (df_m_dom['Action']==act)]\n",
    "            df_m_e=pd.DataFrame()\n",
    "        elif j in df_m_ext['Joueur'].unique():\n",
    "            df_m_e = df_m_ext[(df_m_ext['Joueur']==j) & (df_m_ext['Action']==act)]     \n",
    "            df_m_d=pd.DataFrame()\n",
    "    if  (j!='__All') and (act=='__All'):\n",
    "        if j in df_m_dom['Joueur'].unique():\n",
    "            df_m_d = df_m_dom[(df_m_dom['Joueur']==j)]\n",
    "            df_m_e=pd.DataFrame()\n",
    "        elif j in df_m_ext['Joueur'].unique():\n",
    "            df_m_e = df_m_ext[(df_m_ext['Joueur']==j)]\n",
    "            df_m_d=pd.DataFrame()\n",
    "    if  (j=='__All') and (act=='__All'):\n",
    "        df_m_d = df_m_dom\n",
    "        df_m_e = df_m_ext\n",
    "    if  (j=='__All') and (act!='__All'):\n",
    "        df_m_d = df_m_dom[(df_m_dom['Action']==act)]\n",
    "        df_m_e = df_m_ext[(df_m_ext['Action']==act)] \n",
    "    #\n",
    "    def_tt = Tooltip(fields=[\"name\"], show_labels=False)\n",
    "    bqplt.scatter(x=df_m_dom['Temps'],y=df_m_dom['score_dom'],marker='circle', colors='blue', display_names=False,\n",
    "                  display_legend=True,labels=[eq_dom])\n",
    "    #\n",
    "    def_tt2 = Tooltip(fields=[\"name\"], show_labels=False)\n",
    "    bqplt.scatter(x=df_m_ext['Temps'],y=df_m_ext['score_ext'],marker='triangle-up',colors='red', display_names=False,\n",
    "                  display_legend=True,labels=[eq_ext])\n",
    "    #\n",
    "    if not df_m_d.empty:\n",
    "        bqplt.scatter(x=df_m_d['Temps'],y=df_m_d['score_dom'],marker='circle', colors='blue',tooltip=def_tt,names=df_m_d.label, display_names=False,\n",
    "                  display_legend=True,labels=[j])\n",
    "    if not df_m_e.empty:   \n",
    "        bqplt.scatter(x=df_m_e['Temps'],y=df_m_e['score_ext'],marker='triangle-up',colors='red',tooltip=def_tt2,names=df_m_e.label, display_names=False,\n",
    "                  display_legend=True,labels=[j])\n",
    "    #\n",
    "    bqplt.current_figure().marks[0].default_opacities = [opacité]\n",
    "    bqplt.current_figure().marks[1].default_opacities = [opacité]\n",
    "    bqplt.xlabel('Temps (min)')\n",
    "    bqplt.ylabel('Score')\n",
    "    bqplt.show()\n",
    "    # \n",
    "    embed_minimal_html(f\"C:/Users/nimod/OneDrive/Cat's_Software/ffhb_v2023/FDM/{titre}.html\", views=[fig], title=titre)"
   ]
  },
  {
   "cell_type": "code",
   "execution_count": null,
   "id": "6938b851-57ec-4715-9185-7ca8e7239090",
   "metadata": {},
   "outputs": [],
   "source": [
    "match_sélectionné = widgets.Dropdown(\n",
    "    options=df['fichier'].unique(),\n",
    "    value='5_NANCY U18M2-EPINAL U18M.pdf',\n",
    "    description='Match sélectionné:',)\n",
    "\n",
    "display(match_sélectionné)"
   ]
  },
  {
   "cell_type": "code",
   "execution_count": null,
   "id": "0fce6125-8d69-42f5-8bcb-f89759675f5f",
   "metadata": {},
   "outputs": [],
   "source": [
    "Creation_df_m()\n",
    "lst =glob.glob(f'D:/Films perso/{match_sélectionné.value.replace(\".pdf\",\"\")}/*.MOD')"
   ]
  },
  {
   "cell_type": "code",
   "execution_count": null,
   "id": "45b3fcf7-399e-4daa-849a-f71d1bbf4e8d",
   "metadata": {
    "scrolled": true,
    "tags": []
   },
   "outputs": [],
   "source": [
    "df_m"
   ]
  },
  {
   "cell_type": "markdown",
   "id": "c0623007-dbaf-420a-bd02-8a2ae592dd26",
   "metadata": {},
   "source": [
    "Si les videos ont été enregistrées pour ce match"
   ]
  },
  {
   "cell_type": "code",
   "execution_count": null,
   "id": "af77255a-2ec8-4f37-8c0f-8cb08cf67abf",
   "metadata": {},
   "outputs": [],
   "source": [
    "if len(lst)!=0: # Si les videos ont été enregistrées pour ce match\n",
    "    load_videos()"
   ]
  },
  {
   "cell_type": "code",
   "execution_count": null,
   "id": "b4a91299-d239-48d6-be22-d03151fb2624",
   "metadata": {},
   "outputs": [],
   "source": [
    "df_vid"
   ]
  },
  {
   "cell_type": "code",
   "execution_count": null,
   "id": "726d456f-8cb3-4448-b62e-663e275699ef",
   "metadata": {},
   "outputs": [],
   "source": [
    "detect_mi_temps()"
   ]
  },
  {
   "cell_type": "code",
   "execution_count": null,
   "id": "684fa5ff-bdb3-4787-887e-b7940136f83e",
   "metadata": {},
   "outputs": [],
   "source": [
    "df_vid"
   ]
  },
  {
   "cell_type": "code",
   "execution_count": null,
   "id": "7781b019-a19d-4b02-9947-9f35d49d44cf",
   "metadata": {},
   "outputs": [],
   "source": [
    "detect_TM()"
   ]
  },
  {
   "cell_type": "code",
   "execution_count": null,
   "id": "19adecf7-83be-4989-ae0a-d30dfcb11da5",
   "metadata": {},
   "outputs": [],
   "source": [
    "df_vid"
   ]
  },
  {
   "cell_type": "code",
   "execution_count": null,
   "id": "8de5340e-606e-4f58-8507-77de323d326b",
   "metadata": {},
   "outputs": [],
   "source": [
    "Ajout_temps_videos_dans_déroulé()"
   ]
  },
  {
   "cell_type": "code",
   "execution_count": null,
   "id": "8b1f579f-b1bf-4089-b984-0b30054cc371",
   "metadata": {},
   "outputs": [],
   "source": []
  },
  {
   "cell_type": "markdown",
   "id": "4e2d5db4-2ce0-4a2a-a353-8cc2da7dd176",
   "metadata": {},
   "source": [
    "Si les videos n'ont pas été enregistrées pour ce match"
   ]
  },
  {
   "cell_type": "code",
   "execution_count": null,
   "id": "d5aa6b2d-3d3d-41e3-ba77-de90af3fe42f",
   "metadata": {
    "tags": []
   },
   "outputs": [],
   "source": [
    "if len(lst)!=0: # Si les videos N'ont PAS été enregistrées pour ce match\n",
    "    df_m['label']=df_m.Full_Action"
   ]
  },
  {
   "cell_type": "code",
   "execution_count": null,
   "id": "e2e1445f-9255-4c40-a431-e9b917b86d7f",
   "metadata": {},
   "outputs": [],
   "source": [
    "Creation_df_domEText()"
   ]
  },
  {
   "cell_type": "code",
   "execution_count": null,
   "id": "76162c53-c56b-477c-972b-e6527b9df64c",
   "metadata": {
    "jp-MarkdownHeadingCollapsed": true,
    "tags": []
   },
   "outputs": [],
   "source": [
    "lst_joueurs=df_m.Joueur.unique()\n",
    "lst_joueurs=np.append(lst_joueurs,'__All')\n",
    "\n",
    "def action_dropdown_handler(change):\n",
    "    if joueur.value=='__All':\n",
    "        lst_actions = df_m['Action'].unique()\n",
    "        action.options = np.append(lst_actions,'__All')\n",
    "        # action.value='__All'\n",
    "    else: \n",
    "        lst_actions = df_m.loc[(df_m['Joueur']==joueur.value),'Action'].unique()    \n",
    "        action.options = np.append(lst_actions,'__All')\n",
    "        action.value='__All'\n",
    "\n",
    "joueur = widgets.Dropdown(\n",
    "    options=lst_joueurs,\n",
    "    value='__All',\n",
    "    description='Joueur:',)\n",
    "\n",
    "action = widgets.Dropdown(description='Action:',options=['__All'],value='__All')  \n",
    "\n",
    "joueur.observe(action_dropdown_handler)\n",
    "\n",
    "ui1 = widgets.HBox([joueur,action])\n",
    "res= widgets.interactive_output(plot_déroulé,{'j':joueur,'act':action})\n",
    "# interacts.IndexSelector()\n",
    "\n",
    "display(ui1,res)"
   ]
  },
  {
   "cell_type": "code",
   "execution_count": null,
   "id": "27c9406f-e990-45af-8765-059076e941ed",
   "metadata": {
    "scrolled": true,
    "tags": []
   },
   "outputs": [],
   "source": [
    "df_m"
   ]
  },
  {
   "cell_type": "code",
   "execution_count": null,
   "id": "daa8b514-f884-4f74-8917-37a946bda6c2",
   "metadata": {
    "scrolled": true,
    "tags": []
   },
   "outputs": [],
   "source": [
    "if 'EPINAL U18M' in df_m['equipe_ext'].unique():\n",
    "    df_joueur = df_m_e\n",
    "elif 'EPINAL U18M' in df_m['equipe_dom'].unique():\n",
    "    df_joueur = df_m_d"
   ]
  },
  {
   "cell_type": "code",
   "execution_count": null,
   "id": "fdc24f69-d048-4258-98e4-23d41350714e",
   "metadata": {
    "scrolled": true,
    "tags": []
   },
   "outputs": [],
   "source": [
    "df_joueur"
   ]
  },
  {
   "cell_type": "code",
   "execution_count": null,
   "id": "53332d1c-2003-4502-a6e0-833179c14b0c",
   "metadata": {},
   "outputs": [],
   "source": [
    "lst"
   ]
  },
  {
   "cell_type": "code",
   "execution_count": null,
   "id": "1c22fc07-9386-4e9f-98bb-1521b1ad872b",
   "metadata": {},
   "outputs": [],
   "source": [
    "df_joueur['Cut_time_Start']='00:00:00'\n",
    "df_joueur['Cut_time_End']='00:00:00'"
   ]
  },
  {
   "cell_type": "code",
   "execution_count": null,
   "id": "fdff1827-7dfd-497f-afc5-64375af3a0b1",
   "metadata": {},
   "outputs": [],
   "source": [
    "# df_joueur.to_csv(f\"./create_video.csv\")\n",
    "# df_joueur.to_csv(f\"./{match_sélectionné.value.replace('.pdf','')}_{joueur.value}.csv\")"
   ]
  },
  {
   "cell_type": "markdown",
   "id": "434f2bb9-725c-4441-a20e-f1668b2c9a5c",
   "metadata": {},
   "source": [
    "# Cut video for specific player"
   ]
  },
  {
   "cell_type": "code",
   "execution_count": null,
   "id": "18d9379d-5fcb-4826-9b3b-6a12c37d6bc9",
   "metadata": {},
   "outputs": [],
   "source": [
    "df_video_cut = pd.read_csv(f\"./{match_sélectionné.value.replace('.pdf','')}_{joueur.value}.csv\", index_col=0)\n",
    "df_video_cut.reset_index(inplace=True)"
   ]
  },
  {
   "cell_type": "code",
   "execution_count": null,
   "id": "46c5c350-d92e-45a1-9078-9f62596f86f7",
   "metadata": {},
   "outputs": [],
   "source": [
    "df_video_cut"
   ]
  },
  {
   "cell_type": "code",
   "execution_count": null,
   "id": "06e1cb4d-f6ca-4a65-9314-5805d2a67936",
   "metadata": {},
   "outputs": [],
   "source": [
    "video_group=defaultdict(list)\n",
    "for i,l in df_video_cut.iterrows():\n",
    "    video_group[l.file].append((l.Cut_time_Start,l.Cut_time_End))"
   ]
  },
  {
   "cell_type": "code",
   "execution_count": null,
   "id": "b8e0c540-8e42-46b2-a6eb-8fda48ddfc56",
   "metadata": {},
   "outputs": [],
   "source": [
    "video_group"
   ]
  },
  {
   "cell_type": "code",
   "execution_count": null,
   "id": "88dfa7f0-ce73-488b-82cc-7359b37933ad",
   "metadata": {},
   "outputs": [],
   "source": [
    "def video_cut():\n",
    "    w, h = None, None\n",
    "    for f in df_video_cut['file'].unique():\n",
    "        video = cv2.VideoCapture(f\"D:/Films perso/{df_video_cut.loc[0,'fichier'].replace('pdf','')}/{f}\")\n",
    "        print(f)\n",
    "        print(f\"CV_CAP_PROP_FRAME_WIDTH: {int(video.get(cv2.CAP_PROP_FRAME_WIDTH))}\")\n",
    "        print(f\"CV_CAP_PROP_FRAME_HEIGHT : {int(video.get(cv2.CAP_PROP_FRAME_HEIGHT))}\")\n",
    "        fps = int(video.get(cv2.CAP_PROP_FPS))\n",
    "        print(f\"CAP_PROP_FPS : {fps}\")\n",
    "        frame_count = int(video.get(cv2.CAP_PROP_FRAME_COUNT))\n",
    "        print(f\"CAP_PROP_FRAME_COUNT  : {frame_count}\")\n",
    "        print(f\"CAP_PROP_FOURCC  : {video.get(cv2.CAP_PROP_FOURCC)}\")\n",
    "        # \n",
    "        nb_actions =len(video_group[f])\n",
    "        #\n",
    "        j , i = 0, 0\n",
    "        s = video_group[f][0][0]\n",
    "        e = video_group[f][0][1]\n",
    "        frame_start =int(s.split(':')[1])*60*fps+int(s.split(':')[2])*fps\n",
    "        frame_end =int(e.split(':')[1])*60*fps+int(e.split(':')[2])*fps\n",
    "        print(f\"Action: {video_group[f][0]}\")\n",
    "        while (i<frame_count-5) and (j<nb_actions):\n",
    "            # print(f\"CAP_PROP_POS_MSEC : {video.get(cv2.CAP_PROP_POS_MSEC)}\")\n",
    "            # print(f\"CAP_PROP_POS_FRAMES : {video.get(cv2.CAP_PROP_POS_FRAMES)}\")\n",
    "            success, frame = video.read()\n",
    "        #     frame = cv2.imread(file)\n",
    "            if w is None:\n",
    "                # Setting up the video writer\n",
    "                h, w, _ = frame.shape\n",
    "                fourcc = cv2.VideoWriter_fourcc(*'avc1') # used avc1 to read it in JUpyter lab\n",
    "                writer = cv2.VideoWriter(f\"D:/Films perso/{df_video_cut.loc[0,'fichier'].replace('pdf','')}/{df_video_cut.loc[0,'fichier'].replace('pdf','')}_{df_video_cut['Joueur'].unique()[0]}.mp4\", fourcc, fps, (w, h))\n",
    "            # Repating the frame to fill the duration\n",
    "        #     for repeat in range(duration * frame_per_second):\n",
    "            if (frame_start!=0) and (i >frame_start) and (i<frame_end):\n",
    "                writer.write(frame)\n",
    "            if (j<nb_actions-1) and ((i>frame_end) or (frame_start==0)):\n",
    "                j+=1\n",
    "                print(f\"Action: {video_group[f][j]}\")\n",
    "                s = video_group[f][j][0]\n",
    "                e = video_group[f][j][1]\n",
    "                frame_start =int(s.split(':')[1])*60*fps+int(s.split(':')[2])*fps\n",
    "                frame_end =int(e.split(':')[1])*60*fps+int(e.split(':')[2])*fps\n",
    "            i+=1\n",
    "        #     print(f'{w=} {h=}')\n",
    "    writer.release()\n",
    "    cv2.destroyAllWindows()"
   ]
  },
  {
   "cell_type": "code",
   "execution_count": null,
   "id": "eeb25b68-9594-467c-8f36-2ba32cbc6827",
   "metadata": {},
   "outputs": [],
   "source": [
    "video_cut()"
   ]
  },
  {
   "cell_type": "markdown",
   "id": "a43d743f-f533-4605-9209-35f9a55248ac",
   "metadata": {},
   "source": [
    "#||||||||||||||||||||||||||||||||"
   ]
  },
  {
   "cell_type": "code",
   "execution_count": null,
   "id": "f21f3074-5c43-4506-90cd-807b3fc83da1",
   "metadata": {},
   "outputs": [],
   "source": []
  },
  {
   "cell_type": "code",
   "execution_count": null,
   "id": "8a1f7092-24ec-4d0e-9c8c-b209bf82effd",
   "metadata": {},
   "outputs": [],
   "source": [
    "def video_cut_single(f,s,e):\n",
    "    w, h = None, None\n",
    "    video = cv2.VideoCapture(f\"D:/Films perso/{df_video_cut.loc[0,'fichier'].replace('pdf','')}/{f}\")\n",
    "    print(f)\n",
    "    print(f\"CV_CAP_PROP_FRAME_WIDTH: {int(video.get(cv2.CAP_PROP_FRAME_WIDTH))}\")\n",
    "    print(f\"CV_CAP_PROP_FRAME_HEIGHT : {int(video.get(cv2.CAP_PROP_FRAME_HEIGHT))}\")\n",
    "    fps = int(video.get(cv2.CAP_PROP_FPS))\n",
    "    print(f\"CAP_PROP_FPS : {fps}\")\n",
    "    frame_count = int(video.get(cv2.CAP_PROP_FRAME_COUNT))\n",
    "    print(f\"CAP_PROP_FRAME_COUNT  : {frame_count}\")\n",
    "    # \n",
    "    # nb_actions =len(video_group[f])\n",
    "    #\n",
    "    # j , i = 0, 0\n",
    "    # s = video_group[f][0][0]\n",
    "    # e = video_group[f][0][1]\n",
    "    frame_start =int(s.split(':')[1])*60*fps+int(s.split(':')[2])*fps\n",
    "    frame_end =int(e.split(':')[1])*60*fps+int(e.split(':')[2])*fps\n",
    "    # print(f\"Action: {video_group[f][0]}\")\n",
    "    i=0\n",
    "    while (i<frame_count-5):\n",
    "        # print(f\"CAP_PROP_POS_MSEC : {video.get(cv2.CAP_PROP_POS_MSEC)}\")\n",
    "        # print(f\"CAP_PROP_POS_FRAMES : {video.get(cv2.CAP_PROP_POS_FRAMES)}\")\n",
    "        success, frame = video.read()\n",
    "    #     frame = cv2.imread(file)\n",
    "        if w is None:\n",
    "            # Setting up the video writer\n",
    "            h, w, _ = frame.shape\n",
    "            fourcc = cv2.VideoWriter_fourcc(*'avc1') # used avc1 to read it in JUpyter lab\n",
    "            writer = cv2.VideoWriter(f\"D:/Films perso/{df_video_cut.loc[0,'fichier'].replace('pdf','')}/output.mp4\", fourcc, 1, (w, h))\n",
    "        # Repating the frame to fill the duration\n",
    "    #     for repeat in range(duration * frame_per_second):\n",
    "        if (i >frame_start) and (i<frame_end):\n",
    "            writer.write(frame)\n",
    "        i+=1\n",
    "        #     print(f'{w=} {h=}')\n",
    "    writer.release()\n",
    "    cv2.destroyAllWindows()"
   ]
  },
  {
   "cell_type": "code",
   "execution_count": null,
   "id": "45d6553c-cf2c-4293-aac1-7d3a88f2453c",
   "metadata": {},
   "outputs": [],
   "source": [
    "video_cut_single('MOV004.MOD','00:05:17',('00:05:22'))"
   ]
  },
  {
   "cell_type": "code",
   "execution_count": null,
   "id": "0a602556-2b7f-46e6-871b-83417cef71a3",
   "metadata": {},
   "outputs": [],
   "source": [
    "def video_info(v):\n",
    "    global video\n",
    "    video = cv2.VideoCapture(v)\n",
    "    # showing values of the properties\n",
    "    print(v)\n",
    "    print(f\"CV_CAP_PROP_FRAME_WIDTH: {video.get(cv2.CAP_PROP_FRAME_WIDTH)}\")\n",
    "    print(f\"CV_CAP_PROP_FRAME_HEIGHT : {video.get(cv2.CAP_PROP_FRAME_HEIGHT)}\")\n",
    "    print(f\"CAP_PROP_FPS : {video.get(cv2.CAP_PROP_FPS)}\")\n",
    "    print(f\"CAP_PROP_POS_MSEC : {video.get(cv2.CAP_PROP_POS_MSEC)}\")\n",
    "    print(f\"CAP_PROP_FRAME_COUNT  : {video.get(cv2.CAP_PROP_FRAME_COUNT)}\")\n",
    "    print(f\"CAP_PROP_BRIGHTNESS : {video.get(cv2.CAP_PROP_BRIGHTNESS)}\")\n",
    "    print(f\"CAP_PROP_CONTRAST : {video.get(cv2.CAP_PROP_CONTRAST)}\")\n",
    "    print(f\"CAP_PROP_SATURATION : {video.get(cv2.CAP_PROP_SATURATION)}\")\n",
    "    print(f\"CAP_PROP_HUE : {video.get(cv2.CAP_PROP_HUE)}\")\n",
    "    print(f\"CAP_PROP_GAIN  : {video.get(cv2.CAP_PROP_GAIN)}\")\n",
    "    print(f\"CAP_PROP_CONVERT_RGB : {video.get(cv2.CAP_PROP_CONVERT_RGB)}\")\n",
    "    h = int(video.get(cv2.CAP_PROP_FOURCC))\n",
    "    codec = chr(h&0xff) + chr((h>>8)&0xff) + chr((h>>16)&0xff) + chr((h>>24)&0xff)\n",
    "    print(f\"Codec fourcc code is:{codec}\")"
   ]
  },
  {
   "cell_type": "code",
   "execution_count": null,
   "id": "3db3f830-874d-43e9-a1e2-91ee5bfdaf67",
   "metadata": {},
   "outputs": [],
   "source": [
    "video_info(lst[0])"
   ]
  },
  {
   "cell_type": "code",
   "execution_count": null,
   "id": "ef2ecb8e-a108-482d-adce-83a725bf9f82",
   "metadata": {},
   "outputs": [],
   "source": [
    "# Extracting first frame of the video\n",
    "success, img = video.read()"
   ]
  },
  {
   "cell_type": "code",
   "execution_count": null,
   "id": "48881f97-4ed2-4fe9-b478-1abacfd2e2f7",
   "metadata": {},
   "outputs": [],
   "source": [
    "im = Image.fromarray(img)\n",
    "im"
   ]
  },
  {
   "cell_type": "code",
   "execution_count": null,
   "id": "72a66058-bcd3-4622-8029-5ee3f2c508d7",
   "metadata": {},
   "outputs": [],
   "source": [
    "# Each video has a frame per second which is number of frames in every second\n",
    "frame_per_second = video.get(cv2.CAP_PROP_FPS)\n",
    "nb_frames = int(video.get(cv2.CAP_PROP_FRAME_COUNT))\n",
    "# files_and_duration = ["
   ]
  },
  {
   "cell_type": "code",
   "execution_count": null,
   "id": "df282b3b-319a-442d-a9b4-6612379a7499",
   "metadata": {
    "scrolled": true,
    "tags": []
   },
   "outputs": [],
   "source": [
    "def convert_video():\n",
    "    w, h = None, None\n",
    "    for i in range(nb_frames-1):\n",
    "        success, frame = video.read()\n",
    "    #     frame = cv2.imread(file)\n",
    "        if w is None:\n",
    "            # Setting up the video writer\n",
    "            h, w, _ = frame.shape\n",
    "    #         fourcc = cv2.VideoWriter_fourcc('m', 'p', '4', 'v')\n",
    "            fourcc = cv2.VideoWriter_fourcc(*'avc1')\n",
    "            writer = cv2.VideoWriter('output.mp4', fourcc, frame_per_second, (w, h))\n",
    "        # Repating the frame to fill the duration\n",
    "    #     for repeat in range(duration * frame_per_second):\n",
    "        writer.write(frame)\n",
    "    #     print(f'{w=} {h=}')\n",
    "    writer.release()\n",
    "    cv2.destroyAllWindows()"
   ]
  },
  {
   "cell_type": "code",
   "execution_count": null,
   "id": "4d2fd00c-92bf-4a72-9bd7-428b0cc54eff",
   "metadata": {},
   "outputs": [],
   "source": [
    "def read_video1(v):\n",
    "    Video(v,width=320,height=240)"
   ]
  },
  {
   "cell_type": "code",
   "execution_count": null,
   "id": "538b4aa3-5e91-49e0-93ff-9b77ae6b70e6",
   "metadata": {},
   "outputs": [],
   "source": [
    "read_video1(lst[0])"
   ]
  },
  {
   "cell_type": "code",
   "execution_count": null,
   "id": "321fc104-cf65-46d9-a216-a48b5ecb708b",
   "metadata": {},
   "outputs": [],
   "source": [
    "def read_video2(v,f):\n",
    "    video = cv2.VideoCapture(v)\n",
    "    video.set(cv2.CAP_PROP_POS_FRAMES,f)\n",
    "    # Read until video is completed\n",
    "    while True:\n",
    "        ret, frame = video.read()\n",
    "        cv2.imshow(\"Video\", frame)\n",
    "        if cv2.waitKey(25) & 0xFF == ord('q'):\n",
    "            break\n",
    "    cv2.destroyAllWindows()"
   ]
  },
  {
   "cell_type": "code",
   "execution_count": null,
   "id": "1eb3b39b-d729-4b6f-b67d-fe1176deab30",
   "metadata": {},
   "outputs": [],
   "source": [
    "read_video2(lst[0],0)"
   ]
  },
  {
   "cell_type": "code",
   "execution_count": null,
   "id": "4d2783c6-7382-47d5-b3a7-40dde47a4b2f",
   "metadata": {},
   "outputs": [],
   "source": [
    "lst[0]"
   ]
  },
  {
   "cell_type": "code",
   "execution_count": null,
   "id": "4592b578-5879-426f-b7aa-ed1a02d9ce73",
   "metadata": {
    "tags": []
   },
   "outputs": [],
   "source": [
    "HTML(f\"\"\"\n",
    "<video width=\"320\" height=\"240\" controls>\n",
    "  <source src='{lst[0]}' type=\"video/mp4\">\n",
    "</video>\n",
    "\"\"\")"
   ]
  },
  {
   "cell_type": "code",
   "execution_count": null,
   "id": "fa85ed86-86e0-4c42-bb8f-6e604df779af",
   "metadata": {},
   "outputs": [],
   "source": [
    "%%HTML\n",
    "<video width=\"320\" height=\"240\" controls>\n",
    "  <source src= './MTL FCC2.mp4' type=\"video/mp4\">\n",
    "</video>"
   ]
  },
  {
   "cell_type": "markdown",
   "id": "ba29e47c-8621-4708-8de7-ae4cd3980504",
   "metadata": {},
   "source": [
    "<video controls src= './MTL FCC2.mp4'>animation</video>"
   ]
  },
  {
   "cell_type": "code",
   "execution_count": null,
   "id": "217419d7-e4bc-4455-b557-9770adf56bed",
   "metadata": {},
   "outputs": [],
   "source": [
    "HTML(\"\"\"\n",
    "<video width=\"320\" height=\"240\" controls>\n",
    "  <source src='./output.mp4' type=\"video/mp4\"\">\n",
    "</video>\n",
    "\"\"\")"
   ]
  },
  {
   "cell_type": "markdown",
   "id": "56c02e1b-0994-412c-abfe-7da677b99dfc",
   "metadata": {},
   "source": [
    "<video controls src= './output.mp4'>animation</video>"
   ]
  },
  {
   "cell_type": "code",
   "execution_count": null,
   "id": "2ecc2e2f-655f-4026-89a8-93b51a29fc50",
   "metadata": {},
   "outputs": [],
   "source": []
  }
 ],
 "metadata": {
  "kernelspec": {
   "display_name": "Python 3 (ipykernel)",
   "language": "python",
   "name": "python3"
  },
  "language_info": {
   "codemirror_mode": {
    "name": "ipython",
    "version": 3
   },
   "file_extension": ".py",
   "mimetype": "text/x-python",
   "name": "python",
   "nbconvert_exporter": "python",
   "pygments_lexer": "ipython3",
   "version": "3.9.5"
  },
  "toc-autonumbering": true,
  "toc-showmarkdowntxt": true,
  "toc-showtags": false
 },
 "nbformat": 4,
 "nbformat_minor": 5
}
