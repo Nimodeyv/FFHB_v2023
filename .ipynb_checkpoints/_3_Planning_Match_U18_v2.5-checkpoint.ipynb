{
 "cells": [
  {
   "cell_type": "code",
   "execution_count": 96,
   "metadata": {},
   "outputs": [],
   "source": [
    "import pandas as pd\n",
    "import sqlite3\n",
    "#Creation des invitation ics\n",
    "from icalendar import Calendar, Event\n",
    "import pytz\n",
    "from datetime import datetime\n",
    "import os\n",
    "from pathlib import Path\n",
    "import time\n",
    "import ipywidgets as widgets\n",
    "from IPython.display import display"
   ]
  },
  {
   "cell_type": "code",
   "execution_count": 97,
   "metadata": {},
   "outputs": [],
   "source": [
    "#start = time.time() # To measure time"
   ]
  },
  {
   "cell_type": "markdown",
   "metadata": {},
   "source": [
    "Chargement des matchs dans df"
   ]
  },
  {
   "cell_type": "code",
   "execution_count": 98,
   "metadata": {},
   "outputs": [],
   "source": [
    "conn = sqlite3.connect('Championnat_U18_GrandEst.sqlite')\n",
    "cur = conn.cursor()"
   ]
  },
  {
   "cell_type": "code",
   "execution_count": 99,
   "metadata": {},
   "outputs": [],
   "source": [
    "df = pd.read_sql_query(\"SELECT * FROM Matchs\", conn)"
   ]
  },
  {
   "cell_type": "markdown",
   "metadata": {},
   "source": [
    "Creation du calendrier"
   ]
  },
  {
   "cell_type": "code",
   "execution_count": 100,
   "metadata": {},
   "outputs": [],
   "source": [
    "cal = Calendar()\n",
    "#cal.add('attendee', 'MAILTO:magali.capelli@garrettmotion.com')\n",
    "#cal.add('attendee', 'MAILTO:xyz@example.com')"
   ]
  },
  {
   "cell_type": "code",
   "execution_count": 101,
   "metadata": {},
   "outputs": [],
   "source": [
    "def add_event(J,D,M,A):\n",
    "    print(J,D,M,A)\n",
    "    event = Event()\n",
    "    event.add('summary', M.replace(\".pdf\",\"\")+D)\n",
    "    when = D.split()\n",
    "    #print(when)\n",
    "    month = {'janvier':1,'fÃ©vrier':2,'mars':3,'avril':4,'mai':5,'juin':6,'juillet':7,'aout':8,'septembre':9,'octobre':10,'novembre':11,'dÃ©cembre':12 }\n",
    "    if month[when[2]] > 8:\n",
    "        year = datetime.today().year\n",
    "    else :\n",
    "        year = datetime.today().year +1\n",
    "    heure = when[3].split('H')\n",
    "    event.add('attendee',\"magali.capelli@garrettmotion.com\")\n",
    "    event.add('dtstart', datetime(year, month[when[2]], int(when[1]), int((when[3].split('H'))[0])-1, int((when[3].split('H'))[1]), 0, tzinfo=pytz.timezone(\"Europe/Paris\")))\n",
    "    event.add('dtend', datetime(year, month[when[2]], int(when[1]), int((when[3].split('H'))[0])-1+2, int((when[3].split('H'))[1]), 0, tzinfo=pytz.timezone(\"Europe/Paris\")))\n",
    "    #event.add('dtstamp', datetime(year, 4, 4, 0, 10, 0, tzinfo=pytz.timezone(\"Europe/Paris\")))\n",
    "    event.add('location', A)\n",
    "    # Adding events to calendar\n",
    "    #print(event)\n",
    "    cal.add_component(event)"
   ]
  },
  {
   "cell_type": "markdown",
   "metadata": {},
   "source": [
    "Choix equipe"
   ]
  },
  {
   "cell_type": "code",
   "execution_count": 102,
   "metadata": {},
   "outputs": [
    {
     "data": {
      "text/plain": [
       "['SELESTAT 2 U18M',\n",
       " 'COLMAR HC U18M',\n",
       " 'ENT FOLSCHVILLER&SARREBOURG 2 U18M',\n",
       " 'ASPTT MULHOUSE&RIXHEIM U18M',\n",
       " 'THIONVILLE U18M',\n",
       " 'EPINAL U18M',\n",
       " 'BASSIN MUSSIPONTAINU18M  ',\n",
       " 'METZ HB U18M',\n",
       " 'TAISSY U18M',\n",
       " 'STRASBOURG&SCHILTIGHEIM 2 U18M',\n",
       " 'ENT P2H&MONT ST MARTIN U18M',\n",
       " 'ENT ROSIERES&SAVINO CHAPELAIN U18M']"
      ]
     },
     "execution_count": 102,
     "metadata": {},
     "output_type": "execute_result"
    }
   ],
   "source": [
    "# DEFINITION DE LA LISTE DES EQUIPE\n",
    "Liste_equipe =[]\n",
    "for e in df['equipe_dom'].unique():\n",
    "    if e not in Liste_equipe: Liste_equipe.append(e)\n",
    "for e in df['equipe_ext'].unique():\n",
    "    if e not in Liste_equipe: Liste_equipe.append(e)\n",
    "Liste_equipe"
   ]
  },
  {
   "cell_type": "code",
   "execution_count": 103,
   "metadata": {},
   "outputs": [
    {
     "data": {
      "text/html": [
       "<div>\n",
       "<style scoped>\n",
       "    .dataframe tbody tr th:only-of-type {\n",
       "        vertical-align: middle;\n",
       "    }\n",
       "\n",
       "    .dataframe tbody tr th {\n",
       "        vertical-align: top;\n",
       "    }\n",
       "\n",
       "    .dataframe thead th {\n",
       "        text-align: right;\n",
       "    }\n",
       "</style>\n",
       "<table border=\"1\" class=\"dataframe\">\n",
       "  <thead>\n",
       "    <tr style=\"text-align: right;\">\n",
       "      <th></th>\n",
       "      <th>fichier</th>\n",
       "      <th>Journee</th>\n",
       "      <th>Periode</th>\n",
       "      <th>Date</th>\n",
       "      <th>equipe_dom</th>\n",
       "      <th>equipe_ext</th>\n",
       "      <th>score_dom</th>\n",
       "      <th>score_ext</th>\n",
       "      <th>diff_buts</th>\n",
       "      <th>lieu</th>\n",
       "      <th>arbitres</th>\n",
       "    </tr>\n",
       "  </thead>\n",
       "  <tbody>\n",
       "    <tr>\n",
       "      <th>0</th>\n",
       "      <td>1_SELESTAT 2 U18M-TAISSY U18M.pdf</td>\n",
       "      <td>1</td>\n",
       "      <td>18/09 AU 19/09/2021</td>\n",
       "      <td>samedi 18 septembre 18H00</td>\n",
       "      <td>SELESTAT 2 U18M</td>\n",
       "      <td>TAISSY U18M</td>\n",
       "      <td>38</td>\n",
       "      <td>27</td>\n",
       "      <td>11</td>\n",
       "      <td>COSEC EUGENE GRIESMAR  QUAI ALBRECHT SELESTAT</td>\n",
       "      <td>LARUE EVAN UKA ENDRIT</td>\n",
       "    </tr>\n",
       "    <tr>\n",
       "      <th>1</th>\n",
       "      <td>1_COLMAR HC U18M-METZ HB U18M.pdf</td>\n",
       "      <td>1</td>\n",
       "      <td>18/09 AU 19/09/2021</td>\n",
       "      <td>samedi 18 septembre 17H00</td>\n",
       "      <td>COLMAR HC U18M</td>\n",
       "      <td>METZ HB U18M</td>\n",
       "      <td>27</td>\n",
       "      <td>26</td>\n",
       "      <td>1</td>\n",
       "      <td>MONTAGNE VERTE  PLACE DE LA MONTAGNE VERTE COLMAR</td>\n",
       "      <td>SISSLER SARAH SISSLER SAMANTHA</td>\n",
       "    </tr>\n",
       "    <tr>\n",
       "      <th>2</th>\n",
       "      <td>1_ENT FOLSCHVILLER&amp;SARREBOURG 2 U18M-STRASBOUR...</td>\n",
       "      <td>1</td>\n",
       "      <td>18/09 AU 19/09/2021</td>\n",
       "      <td>samedi 18 septembre 15H45</td>\n",
       "      <td>ENT FOLSCHVILLER&amp;SARREBOURG 2 U18M</td>\n",
       "      <td>STRASBOURG&amp;SCHILTIGHEIM 2 U18M</td>\n",
       "      <td>31</td>\n",
       "      <td>30</td>\n",
       "      <td>1</td>\n",
       "      <td>MARCEL MARTIN 5 RUE USSON DE POITOU FOLSCHVILLER</td>\n",
       "      <td>BUONOMO FLORENT —</td>\n",
       "    </tr>\n",
       "    <tr>\n",
       "      <th>3</th>\n",
       "      <td>1_ASPTT MULHOUSE&amp;RIXHEIM U18M-ENT ROSIERES&amp;SAV...</td>\n",
       "      <td>1</td>\n",
       "      <td>18/09 AU 19/09/2021</td>\n",
       "      <td>samedi 18 septembre 16H00</td>\n",
       "      <td>ASPTT MULHOUSE&amp;RIXHEIM U18M</td>\n",
       "      <td>ENT ROSIERES&amp;SAVINO CHAPELAIN U18M</td>\n",
       "      <td>20</td>\n",
       "      <td>33</td>\n",
       "      <td>-13</td>\n",
       "      <td>COSEC DE RIXHEIM  RUE DU TEMPLE RIXHEIM</td>\n",
       "      <td>ANDERHUEBER TOM PORCU ANTONIN</td>\n",
       "    </tr>\n",
       "    <tr>\n",
       "      <th>4</th>\n",
       "      <td>1_THIONVILLE U18M-ENT P2H&amp;MONT ST MARTIN U18M.pdf</td>\n",
       "      <td>1</td>\n",
       "      <td>18/09 AU 19/09/2021</td>\n",
       "      <td>dimanche 19 septembre 15H00</td>\n",
       "      <td>THIONVILLE U18M</td>\n",
       "      <td>ENT P2H&amp;MONT ST MARTIN U18M</td>\n",
       "      <td>46</td>\n",
       "      <td>22</td>\n",
       "      <td>24</td>\n",
       "      <td>GYMNASE JEAN-PIERRE ADAMS  RUE SAINT EXUPERY T...</td>\n",
       "      <td>CAQUANT ADRIEN MENGUAL YANIS</td>\n",
       "    </tr>\n",
       "    <tr>\n",
       "      <th>...</th>\n",
       "      <td>...</td>\n",
       "      <td>...</td>\n",
       "      <td>...</td>\n",
       "      <td>...</td>\n",
       "      <td>...</td>\n",
       "      <td>...</td>\n",
       "      <td>...</td>\n",
       "      <td>...</td>\n",
       "      <td>...</td>\n",
       "      <td>...</td>\n",
       "      <td>...</td>\n",
       "    </tr>\n",
       "    <tr>\n",
       "      <th>127</th>\n",
       "      <td>21_ENT P2H&amp;MONT ST MARTIN U18M-TAISSY U18M.pdf</td>\n",
       "      <td>21</td>\n",
       "      <td>14/05 AU 15/05/2022</td>\n",
       "      <td>samedi 14 mai 16H00</td>\n",
       "      <td>ENT P2H&amp;MONT ST MARTIN U18M</td>\n",
       "      <td>TAISSY U18M</td>\n",
       "      <td></td>\n",
       "      <td></td>\n",
       "      <td></td>\n",
       "      <td>GYMNASE MUNICIPAL 19  RUE ALBERT LEBRUN LEXY</td>\n",
       "      <td>DEMKIW GUILHEM —</td>\n",
       "    </tr>\n",
       "    <tr>\n",
       "      <th>128</th>\n",
       "      <td>21_EPINAL U18M-ENT FOLSCHVILLER&amp;SARREBOURG 2 U...</td>\n",
       "      <td>21</td>\n",
       "      <td>14/05 AU 15/05/2022</td>\n",
       "      <td>dimanche 15 mai 16H00</td>\n",
       "      <td>EPINAL U18M</td>\n",
       "      <td>ENT FOLSCHVILLER&amp;SARREBOURG 2 U18M</td>\n",
       "      <td></td>\n",
       "      <td></td>\n",
       "      <td></td>\n",
       "      <td>PALAIS DES SPORTS  AVENUE DE SAINT DIE EPINAL</td>\n",
       "      <td>SISSLER SAMANTHA SISSLER SARAH</td>\n",
       "    </tr>\n",
       "    <tr>\n",
       "      <th>129</th>\n",
       "      <td>21_ENT ROSIERES&amp;SAVINO CHAPELAIN U18M-SELESTAT...</td>\n",
       "      <td>21</td>\n",
       "      <td>14/05 AU 15/05/2022</td>\n",
       "      <td>samedi 14 mai 18H30</td>\n",
       "      <td>ENT ROSIERES&amp;SAVINO CHAPELAIN U18M</td>\n",
       "      <td>SELESTAT 2 U18M</td>\n",
       "      <td></td>\n",
       "      <td></td>\n",
       "      <td></td>\n",
       "      <td>RAYMOND LAURENT  PLACE CHARLES DE GAULLE ROSIE...</td>\n",
       "      <td>SERGENT SYLVAIN GEORGES NICOLAS</td>\n",
       "    </tr>\n",
       "    <tr>\n",
       "      <th>130</th>\n",
       "      <td>21_METZ HB U18M-ASPTT MULHOUSE&amp;RIXHEIM U18M.pdf</td>\n",
       "      <td>21</td>\n",
       "      <td>14/05 AU 15/05/2022</td>\n",
       "      <td>samedi 14 mai 16H15</td>\n",
       "      <td>METZ HB U18M</td>\n",
       "      <td>ASPTT MULHOUSE&amp;RIXHEIM U18M</td>\n",
       "      <td></td>\n",
       "      <td></td>\n",
       "      <td></td>\n",
       "      <td>COMPLEXE SPORTIF ST SYMPHORIEN  BOULEVARD ST S...</td>\n",
       "      <td>COLLING CHRISTOPHE —</td>\n",
       "    </tr>\n",
       "    <tr>\n",
       "      <th>131</th>\n",
       "      <td>21_STRASBOURG&amp;SCHILTIGHEIM 2 U18M-THIONVILLE U...</td>\n",
       "      <td>21</td>\n",
       "      <td>14/05 AU 15/05/2022</td>\n",
       "      <td>samedi 14 mai 18H00</td>\n",
       "      <td>STRASBOURG&amp;SCHILTIGHEIM 2 U18M</td>\n",
       "      <td>THIONVILLE U18M</td>\n",
       "      <td></td>\n",
       "      <td></td>\n",
       "      <td></td>\n",
       "      <td>GYMNASE DES MALTERIES 49  RUE DES MALTERIES SC...</td>\n",
       "      <td>BALL HUGO RUSSOTTI NOAH</td>\n",
       "    </tr>\n",
       "  </tbody>\n",
       "</table>\n",
       "<p>132 rows × 11 columns</p>\n",
       "</div>"
      ],
      "text/plain": [
       "                                               fichier  Journee  \\\n",
       "0                    1_SELESTAT 2 U18M-TAISSY U18M.pdf        1   \n",
       "1                    1_COLMAR HC U18M-METZ HB U18M.pdf        1   \n",
       "2    1_ENT FOLSCHVILLER&SARREBOURG 2 U18M-STRASBOUR...        1   \n",
       "3    1_ASPTT MULHOUSE&RIXHEIM U18M-ENT ROSIERES&SAV...        1   \n",
       "4    1_THIONVILLE U18M-ENT P2H&MONT ST MARTIN U18M.pdf        1   \n",
       "..                                                 ...      ...   \n",
       "127     21_ENT P2H&MONT ST MARTIN U18M-TAISSY U18M.pdf       21   \n",
       "128  21_EPINAL U18M-ENT FOLSCHVILLER&SARREBOURG 2 U...       21   \n",
       "129  21_ENT ROSIERES&SAVINO CHAPELAIN U18M-SELESTAT...       21   \n",
       "130    21_METZ HB U18M-ASPTT MULHOUSE&RIXHEIM U18M.pdf       21   \n",
       "131  21_STRASBOURG&SCHILTIGHEIM 2 U18M-THIONVILLE U...       21   \n",
       "\n",
       "                 Periode                         Date  \\\n",
       "0    18/09 AU 19/09/2021    samedi 18 septembre 18H00   \n",
       "1    18/09 AU 19/09/2021    samedi 18 septembre 17H00   \n",
       "2    18/09 AU 19/09/2021    samedi 18 septembre 15H45   \n",
       "3    18/09 AU 19/09/2021    samedi 18 septembre 16H00   \n",
       "4    18/09 AU 19/09/2021  dimanche 19 septembre 15H00   \n",
       "..                   ...                          ...   \n",
       "127  14/05 AU 15/05/2022          samedi 14 mai 16H00   \n",
       "128  14/05 AU 15/05/2022        dimanche 15 mai 16H00   \n",
       "129  14/05 AU 15/05/2022          samedi 14 mai 18H30   \n",
       "130  14/05 AU 15/05/2022          samedi 14 mai 16H15   \n",
       "131  14/05 AU 15/05/2022          samedi 14 mai 18H00   \n",
       "\n",
       "                             equipe_dom                          equipe_ext  \\\n",
       "0                       SELESTAT 2 U18M                         TAISSY U18M   \n",
       "1                        COLMAR HC U18M                        METZ HB U18M   \n",
       "2    ENT FOLSCHVILLER&SARREBOURG 2 U18M      STRASBOURG&SCHILTIGHEIM 2 U18M   \n",
       "3           ASPTT MULHOUSE&RIXHEIM U18M  ENT ROSIERES&SAVINO CHAPELAIN U18M   \n",
       "4                       THIONVILLE U18M         ENT P2H&MONT ST MARTIN U18M   \n",
       "..                                  ...                                 ...   \n",
       "127         ENT P2H&MONT ST MARTIN U18M                         TAISSY U18M   \n",
       "128                         EPINAL U18M  ENT FOLSCHVILLER&SARREBOURG 2 U18M   \n",
       "129  ENT ROSIERES&SAVINO CHAPELAIN U18M                     SELESTAT 2 U18M   \n",
       "130                        METZ HB U18M         ASPTT MULHOUSE&RIXHEIM U18M   \n",
       "131      STRASBOURG&SCHILTIGHEIM 2 U18M                     THIONVILLE U18M   \n",
       "\n",
       "    score_dom score_ext diff_buts  \\\n",
       "0          38        27        11   \n",
       "1          27        26         1   \n",
       "2          31        30         1   \n",
       "3          20        33       -13   \n",
       "4          46        22        24   \n",
       "..        ...       ...       ...   \n",
       "127                                 \n",
       "128                                 \n",
       "129                                 \n",
       "130                                 \n",
       "131                                 \n",
       "\n",
       "                                                  lieu  \\\n",
       "0        COSEC EUGENE GRIESMAR  QUAI ALBRECHT SELESTAT   \n",
       "1    MONTAGNE VERTE  PLACE DE LA MONTAGNE VERTE COLMAR   \n",
       "2     MARCEL MARTIN 5 RUE USSON DE POITOU FOLSCHVILLER   \n",
       "3              COSEC DE RIXHEIM  RUE DU TEMPLE RIXHEIM   \n",
       "4    GYMNASE JEAN-PIERRE ADAMS  RUE SAINT EXUPERY T...   \n",
       "..                                                 ...   \n",
       "127       GYMNASE MUNICIPAL 19  RUE ALBERT LEBRUN LEXY   \n",
       "128      PALAIS DES SPORTS  AVENUE DE SAINT DIE EPINAL   \n",
       "129  RAYMOND LAURENT  PLACE CHARLES DE GAULLE ROSIE...   \n",
       "130  COMPLEXE SPORTIF ST SYMPHORIEN  BOULEVARD ST S...   \n",
       "131  GYMNASE DES MALTERIES 49  RUE DES MALTERIES SC...   \n",
       "\n",
       "                            arbitres  \n",
       "0              LARUE EVAN UKA ENDRIT  \n",
       "1     SISSLER SARAH SISSLER SAMANTHA  \n",
       "2                  BUONOMO FLORENT —  \n",
       "3      ANDERHUEBER TOM PORCU ANTONIN  \n",
       "4       CAQUANT ADRIEN MENGUAL YANIS  \n",
       "..                               ...  \n",
       "127                 DEMKIW GUILHEM —  \n",
       "128   SISSLER SAMANTHA SISSLER SARAH  \n",
       "129  SERGENT SYLVAIN GEORGES NICOLAS  \n",
       "130             COLLING CHRISTOPHE —  \n",
       "131          BALL HUGO RUSSOTTI NOAH  \n",
       "\n",
       "[132 rows x 11 columns]"
      ]
     },
     "execution_count": 103,
     "metadata": {},
     "output_type": "execute_result"
    }
   ],
   "source": [
    "df"
   ]
  },
  {
   "cell_type": "code",
   "execution_count": 108,
   "metadata": {},
   "outputs": [],
   "source": [
    "#Equipe = 'EPINAL U18M'\n",
    "def show_planning(Equipe='EPINAL U18M'):\n",
    "    df2 = df[(df['equipe_dom']==Equipe) | (df['equipe_ext']==Equipe)][['Journee','Periode','equipe_dom','score_dom','equipe_ext','score_ext','lieu','arbitres']]\n",
    "    df2.sort_values(by=['Journee'],ascending=True, inplace=True)\n",
    "    display(df2)\n",
    "    for i in df.index:\n",
    "        try:\n",
    "            #print(df.loc[i]['Journee'],df.loc[i]['Date'],df.loc[i]['fichier'],df.loc[i]['lieu'])\n",
    "            add_event(df2.loc[i]['Journee'],df2.loc[i]['Date'],df2.loc[i]['fichier'],df2.loc[i]['lieu'])\n",
    "        except:\n",
    "            pass\n",
    "    f= open('./PLANNING/'+Equipe+'_Planning_des_Matchs.ics','wb')\n",
    "    f.write(cal.to_ical())\n",
    "    f.close()\n",
    "    #df2.to_html('./PLANNING/'+Equipe+'_Planning_des_Matchs.html')\n",
    "    #df2.to_csv('./PLANNING/'+Equipe+'_Planning_des_Matchs.csv',index=False ) # save le pandadataframe dans un fichier csv"
   ]
  },
  {
   "cell_type": "code",
   "execution_count": 109,
   "metadata": {},
   "outputs": [
    {
     "data": {
      "application/vnd.jupyter.widget-view+json": {
       "model_id": "be1fe622b486421699ae3259867ed089",
       "version_major": 2,
       "version_minor": 0
      },
      "text/plain": [
       "interactive(children=(Dropdown(description='Equipe', index=5, options=('SELESTAT 2 U18M', 'COLMAR HC U18M', 'E…"
      ]
     },
     "metadata": {},
     "output_type": "display_data"
    },
    {
     "data": {
      "text/plain": [
       "<function __main__.show_planning(Equipe='EPINAL U18M')>"
      ]
     },
     "execution_count": 109,
     "metadata": {},
     "output_type": "execute_result"
    }
   ],
   "source": [
    "widgets.interact(show_planning, Equipe=Liste_equipe)"
   ]
  },
  {
   "cell_type": "code",
   "execution_count": 95,
   "metadata": {},
   "outputs": [],
   "source": [
    "#print('Task completed in', time.time() - start,'seconds')"
   ]
  },
  {
   "cell_type": "code",
   "execution_count": null,
   "metadata": {},
   "outputs": [],
   "source": []
  },
  {
   "cell_type": "code",
   "execution_count": null,
   "metadata": {},
   "outputs": [],
   "source": []
  },
  {
   "cell_type": "code",
   "execution_count": null,
   "metadata": {},
   "outputs": [],
   "source": []
  }
 ],
 "metadata": {
  "kernelspec": {
   "display_name": "Python 3 (ipykernel)",
   "language": "python",
   "name": "python3"
  },
  "language_info": {
   "codemirror_mode": {
    "name": "ipython",
    "version": 3
   },
   "file_extension": ".py",
   "mimetype": "text/x-python",
   "name": "python",
   "nbconvert_exporter": "python",
   "pygments_lexer": "ipython3",
   "version": "3.10.4"
  }
 },
 "nbformat": 4,
 "nbformat_minor": 4
}
