{
 "cells": [
  {
   "cell_type": "markdown",
   "id": "e27cd199-7ca9-4384-8269-975c76e35cdf",
   "metadata": {},
   "source": [
    "# <img src=\"./logo_transparent.png\" width=\"70\"> Step7 - Analyse Equipes  <img src=\"./logoffhb.png\" width=\"100\"> "
   ]
  },
  {
   "cell_type": "code",
   "execution_count": 1,
   "id": "5ccfe159",
   "metadata": {},
   "outputs": [],
   "source": [
    "from collections import defaultdict\n",
    "import sqlite3\n",
    "import pandas as pd\n",
    "import matplotlib.pyplot as plt\n",
    "import numpy as np\n",
    "import ipywidgets as widgets\n",
    "pd.set_option('display.max_rows', None)"
   ]
  },
  {
   "cell_type": "markdown",
   "id": "094ae49a",
   "metadata": {
    "tags": []
   },
   "source": [
    "# Comptabilisation des actions du match (déroulé)"
   ]
  },
  {
   "cell_type": "code",
   "execution_count": 2,
   "id": "94be3296-fd1a-4dc8-8c52-81c1eedaaaf5",
   "metadata": {},
   "outputs": [],
   "source": [
    "        # 0  ID TEXT NOT NULL PRIMARY KEY UNIQUE, \n",
    "        # 1  fichier TEXT,\n",
    "        # 2  Journée INTEGER,\n",
    "        # 3  equipe_dom TEXT,\n",
    "        # 4  equipe_ext TEXT,\n",
    "        # 5  Min TEXT,\n",
    "        # 6  Sec TEXT,\n",
    "        # 7  score_dom INTEGER,\n",
    "        # 8  score_ext INTEGER,\n",
    "        # 9  Action TEXT,\n",
    "        # 10 Action_equipe TEXT,\n",
    "        # 11 Numero TEXT,\n",
    "        # 12 Joueur TEXT"
   ]
  },
  {
   "cell_type": "code",
   "execution_count": 3,
   "id": "bfe11e87",
   "metadata": {},
   "outputs": [],
   "source": [
    "championnat =[]\n",
    "conn = sqlite3.connect('Championnat_U18_GrandEst.sqlite')\n",
    "cur = conn.cursor()\n",
    "cur.execute('SELECT * FROM Championnat ')  #WHERE Joueur = ? ', ('MORANDanthony',)\n",
    "rows = cur.fetchall()\n",
    "for row in rows:\n",
    "    line ={}\n",
    "    line['fichier']= row[1]\n",
    "    line['Journée'] = row[2]\n",
    "    line['equipe_dom']=row[3]\n",
    "    line['equipe_ext']=row[4]\n",
    "    line['Min']=row[5]\n",
    "    line['Sec']=row[6]\n",
    "    line['score_dom']=row[7]\n",
    "    line['score_ext']=row[8]\n",
    "    line['Action'] =row[9]\n",
    "    line['Action_equipe'] =row[10]\n",
    "    line['Joueur']=row[12]\n",
    "    championnat.append(line)\n",
    "conn.close()"
   ]
  },
  {
   "cell_type": "code",
   "execution_count": 4,
   "id": "255e5b78",
   "metadata": {},
   "outputs": [
    {
     "name": "stdout",
     "output_type": "stream",
     "text": [
      "Nombre d'actions du championnat: 395\n"
     ]
    }
   ],
   "source": [
    "print(\"Nombre d'actions du championnat:\",len(championnat))"
   ]
  },
  {
   "cell_type": "code",
   "execution_count": 5,
   "id": "f0da3ba5",
   "metadata": {
    "scrolled": true
   },
   "outputs": [],
   "source": [
    "df = pd.DataFrame(championnat)\n",
    "df['Min']=df['Min'].astype(int)\n",
    "df['Sec']=df['Sec'].astype(int)"
   ]
  },
  {
   "cell_type": "code",
   "execution_count": 6,
   "id": "e71f5f43",
   "metadata": {},
   "outputs": [],
   "source": [
    "df['Temps']=df['Min']+df['Sec']/60"
   ]
  },
  {
   "cell_type": "code",
   "execution_count": 7,
   "id": "224d5587",
   "metadata": {},
   "outputs": [],
   "source": [
    "def Analyse_j_m(dfjm):\n",
    "    dom,ext ={},{}\n",
    "    #print(len(dfjm))\n",
    "    for t in ['Journée','fichier']:\n",
    "        dom[t]= dfjm[t].unique()[0] \n",
    "        ext[t]= dfjm[t].unique()[0]\n",
    "    dom['equipe']=dfjm['equipe_dom'].unique()[0]\n",
    "    ext['equipe']=dfjm['equipe_ext'].unique()[0]\n",
    "    #\n",
    "    dfjms = dfjm.sort_values(by=['Temps'])\n",
    "    dfjms['Diff_buts']=dfjms['score_dom']-dfjms['score_ext']\n",
    "    #print(dfjms.iloc[-1])\n",
    "    #\n",
    "    # STATS\n",
    "    dom['Nbre_Buts_marqués']=dfjms.iloc[-1]['score_dom']\n",
    "    dom['Nbre_Buts_encaissés']=dfjms.iloc[-1]['score_ext']\n",
    "    ext['Nbre_Buts_marqués']=dfjms.iloc[-1]['score_ext']\n",
    "    ext['Nbre_Buts_encaissés']=dfjms.iloc[-1]['score_dom']\n",
    "    dom['Diff_buts']=dom['Nbre_Buts_marqués']-dom['Nbre_Buts_encaissés']\n",
    "    ext['Diff_buts']=ext['Nbre_Buts_marqués']-ext['Nbre_Buts_encaissés']\n",
    "    #print('Check:',dom['Diff_buts']==dfjms['Diff_buts'].iloc[-1],ext['Diff_buts']==-dfjms['Diff_buts'].iloc[-1])\n",
    "    #\n",
    "    dom['Nb_Tirs']=dfjms[(dfjms['Action_equipe']==dom['equipe']) & (dfjms['Action']==\"Tir\")].shape[0]\n",
    "    ext['Nb_Tirs']=dfjms[(dfjms['Action_equipe']==ext['equipe']) & (dfjms['Action']==\"Tir\")].shape[0]\n",
    "    #\n",
    "    dom['Nb_arrets']=dfjms[(dfjms['Action_equipe']==dom['equipe']) & (dfjms['Action']==\"Arrêt\")].shape[0]\n",
    "    ext['Nb_arrets']=dfjms[(dfjms['Action_equipe']==ext['equipe']) & (dfjms['Action']==\"Arrêt\")].shape[0]\n",
    "    #\n",
    "    dom['Nb_2min']=dfjms[(dfjms['Action_equipe']==dom['equipe']) & (dfjms['Action']==\"2MN\")].shape[0]\n",
    "    ext['Nb_2min']=dfjms[(dfjms['Action_equipe']==ext['equipe']) & (dfjms['Action']==\"2MN\")].shape[0]\n",
    "    #\n",
    "    dom['Nb_Av']=dfjms[(dfjms['Action_equipe']==dom['equipe']) & (dfjms['Action']==\"Avertissement\")].shape[0]\n",
    "    ext['Nb_Av']=dfjms[(dfjms['Action_equipe']==ext['equipe']) & (dfjms['Action']==\"Avertissement\")].shape[0]\n",
    "    #\n",
    "    dom['Nb_Dis']=dfjms[(dfjms['Action_equipe']==dom['equipe']) & (dfjms['Action']==\"DisqualificationImmédiate\")].shape[0]\n",
    "    ext['Nb_Dis']=dfjms[(dfjms['Action_equipe']==ext['equipe']) & (dfjms['Action']==\"DisqualificationImmédiate\")].shape[0]\n",
    "    #\n",
    "    dfjms['Delta_T'] = dfjms['Temps'].diff()\n",
    "    dfjms.loc[dfjms.index[0],'Delta_T']=dfjms.loc[dfjms.index[0],'Temps'] # remplace la premiere valeur nan par le temps entre 0 et la premiere action\n",
    "    Last_DeltaT = (60-dfjms.loc[dfjms.index[-1],'Temps'])\n",
    "    #print('Check Temps total:', dfjms['Delta_T'].sum()+Last_DeltaT)\n",
    "    #\n",
    "    # TEMPS EN TETE, EGALITE, EN RETARD\n",
    "    d,e,eg = 0,0,0\n",
    "    if dfjms.loc[dfjms.index[-1],'Diff_buts']>0:\n",
    "        d = Last_DeltaT\n",
    "        dom['Points']=3 \n",
    "        ext['Points']=1\n",
    "    elif dfjms.loc[dfjms.index[-1],'Diff_buts']<0:\n",
    "        e = Last_DeltaT\n",
    "        ext['Points']=3 \n",
    "        dom['Points']=1\n",
    "    elif dfjms.loc[dfjms.index[-1],'Diff_buts']==0:\n",
    "        e = Last_DeltaT\n",
    "        dom['Points']=2\n",
    "        ext['Points']=2\n",
    "    dom['Temps_en_tête']= round(dfjms[(dfjms['Diff_buts']>0)]['Delta_T'].sum()+d,2)\n",
    "    ext['Temps_en_tête']=round(dfjms[dfjms['Diff_buts']<0]['Delta_T'].sum()+e,2)\n",
    "    dom['Temps_égalité']=round(dfjms[dfjms['Diff_buts']==0]['Delta_T'].sum()+eg,2)\n",
    "    ext['Temps_égalité']=round(dfjms[dfjms['Diff_buts']==0]['Delta_T'].sum()+eg,2)\n",
    "    #print('Check Temps total:',dom['Temps_en_tête']+ ext['Temps_en_tête']+dom['Temps_égalité'])\n",
    "    #\n",
    "    # TEMPS ENTRE 2 BUTS\n",
    "    dfjms['Delta_T_buts_dom']=dfjms[(dfjms['Action_equipe']==dom['equipe']) & (dfjms['Action'].isin([\"But\",\"But7m\"]))]['Temps'].diff()\n",
    "    premier_but = dfjms[(dfjms['Action_equipe']==dom['equipe']) & (dfjms['Action'].isin([\"But\",\"But7m\"]))].index[0]\n",
    "    dfjms.loc[premier_but,'Delta_T_buts_dom']=dfjms.loc[premier_but,'Temps']\n",
    "    dom['Temps_moy_entre_2buts']=round(dfjms['Delta_T_buts_dom'].mean(),2)\n",
    "    dom['Temps_max_entre_2buts']=round(dfjms['Delta_T_buts_dom'].max(),2)\n",
    "    dom['Temps_min_entre_2buts']=round(dfjms['Delta_T_buts_dom'].min(),2)\n",
    "    #print(dfjms[(dfjms['Action_equipe']==dom['equipe']) & (dfjms['Action'].isin([\"But\",\"But7m\"]))]['Joueur'].unique())\n",
    "    dom['nb_marqueurs']=len(dfjms[(dfjms['Action_equipe']==dom['equipe']) & (dfjms['Action'].isin([\"But\",\"But7m\"]))]['Joueur'].unique())\n",
    "    #\n",
    "    dfjms['Delta_T_buts_ext']=dfjms[(dfjms['Action_equipe']==ext['equipe']) & (dfjms['Action'].isin([\"But\",\"But7m\"]))]['Temps'].diff() \n",
    "    premier_but = dfjms[(dfjms['Action_equipe']==ext['equipe']) & (dfjms['Action'].isin([\"But\",\"But7m\"]))].index[0]\n",
    "    dfjms.loc[premier_but,'Delta_T_buts_ext']=dfjms.loc[premier_but,'Temps']\n",
    "    ext['Temps_moy_entre_2buts']=round(dfjms['Delta_T_buts_ext'].mean(),2)\n",
    "    ext['Temps_max_entre_2buts']=round(dfjms['Delta_T_buts_ext'].max(),2)\n",
    "    ext['Temps_min_entre_2buts']=round(dfjms['Delta_T_buts_ext'].min(),2)\n",
    "    #print(dfjms[(dfjms['Action_equipe']==ext['equipe']) & (dfjms['Action'].isin([\"But\",\"But7m\"]))]['Joueur'].unique())\n",
    "    ext['nb_marqueurs']=len(dfjms[(dfjms['Action_equipe']==ext['equipe']) & (dfjms['Action'].isin([\"But\",\"But7m\"]))]['Joueur'].unique())\n",
    "    #\n",
    "    # CRITERE COLLECTIF\n",
    "    collectif_dom = dfjms[(dfjms['Action_equipe']==dom['equipe']) & (dfjms['Action'].isin([\"But\",\"But7m\"]))]['Joueur'].value_counts()\n",
    "    #print(\"median:\",np.median(collectif_dom))\n",
    "    moy = np.mean(collectif_dom)\n",
    "    tot = [l*l-moy for l in collectif_dom]\n",
    "    #print(collectif_dom, moy, len(collectif_dom),sum(collectif_dom),sum(tot)/len(collectif_dom))\n",
    "    dom['Collectif']=sum(tot)/len(collectif_dom)\n",
    "    collectif_ext = dfjms[(dfjms['Action_equipe']==ext['equipe']) & (dfjms['Action'].isin([\"But\",\"But7m\"]))]['Joueur'].value_counts()\n",
    "    #print(\"median:\",np.median(collectif_dom))\n",
    "    moy = np.mean(collectif_ext)\n",
    "    tot = [l*l-moy for l in collectif_ext]\n",
    "    #print(collectif_ext, moy, len(collectif_ext),sum(collectif_ext),sum(tot)/len(collectif_ext))\n",
    "    ext['Collectif']=sum(tot)/len(collectif_ext)\n",
    "    #\n",
    "    #plt.plot(dfjms['Temps'],dfjms['score_dom'])\n",
    "    #plt.plot(dfjms['Temps'],dfjms['score_ext'])\n",
    "    #plt.plot(dfjms['Temps'],dfjms['Diff_buts'])\n",
    "    #plt.legend([dom['equipe'],ext['equipe'],'Diff_buts'])\n",
    "    #plt.grid()\n",
    "    #\n",
    "    #dfjms.to_csv('test.csv')\n",
    "    return (dom,ext)\n",
    "    "
   ]
  },
  {
   "cell_type": "code",
   "execution_count": 8,
   "id": "e8e48cd6",
   "metadata": {
    "scrolled": true
   },
   "outputs": [],
   "source": [
    "lst_match = df['fichier'].unique()\n",
    "stat=[]\n",
    "for l in lst_match:\n",
    "        m=Analyse_j_m(df[df['fichier']==l])\n",
    "        stat.append(m[0])\n",
    "        stat.append(m[1])"
   ]
  },
  {
   "cell_type": "code",
   "execution_count": 9,
   "id": "9754445d",
   "metadata": {},
   "outputs": [],
   "source": [
    "df_stat=pd.DataFrame(stat)"
   ]
  },
  {
   "cell_type": "code",
   "execution_count": 10,
   "id": "c345ed0a",
   "metadata": {},
   "outputs": [
    {
     "data": {
      "text/html": [
       "<div>\n",
       "<style scoped>\n",
       "    .dataframe tbody tr th:only-of-type {\n",
       "        vertical-align: middle;\n",
       "    }\n",
       "\n",
       "    .dataframe tbody tr th {\n",
       "        vertical-align: top;\n",
       "    }\n",
       "\n",
       "    .dataframe thead th {\n",
       "        text-align: right;\n",
       "    }\n",
       "</style>\n",
       "<table border=\"1\" class=\"dataframe\">\n",
       "  <thead>\n",
       "    <tr style=\"text-align: right;\">\n",
       "      <th></th>\n",
       "      <th>Journée</th>\n",
       "      <th>fichier</th>\n",
       "      <th>equipe</th>\n",
       "      <th>Nbre_Buts_marqués</th>\n",
       "      <th>Nbre_Buts_encaissés</th>\n",
       "      <th>Diff_buts</th>\n",
       "      <th>Nb_Tirs</th>\n",
       "      <th>Nb_arrets</th>\n",
       "      <th>Nb_2min</th>\n",
       "      <th>Nb_Av</th>\n",
       "      <th>Nb_Dis</th>\n",
       "      <th>Points</th>\n",
       "      <th>Temps_en_tête</th>\n",
       "      <th>Temps_égalité</th>\n",
       "      <th>Temps_moy_entre_2buts</th>\n",
       "      <th>Temps_max_entre_2buts</th>\n",
       "      <th>Temps_min_entre_2buts</th>\n",
       "      <th>nb_marqueurs</th>\n",
       "      <th>Collectif</th>\n",
       "    </tr>\n",
       "  </thead>\n",
       "  <tbody>\n",
       "    <tr>\n",
       "      <th>0</th>\n",
       "      <td>1</td>\n",
       "      <td>1_COLMAR HC U18M-EPINAL U18M.pdf</td>\n",
       "      <td>COLMAR HC U18M</td>\n",
       "      <td>31</td>\n",
       "      <td>20</td>\n",
       "      <td>11</td>\n",
       "      <td>21</td>\n",
       "      <td>6</td>\n",
       "      <td>3</td>\n",
       "      <td>2</td>\n",
       "      <td>0</td>\n",
       "      <td>3</td>\n",
       "      <td>49.92</td>\n",
       "      <td>4.17</td>\n",
       "      <td>1.91</td>\n",
       "      <td>4.78</td>\n",
       "      <td>0.38</td>\n",
       "      <td>10</td>\n",
       "      <td>11.600000</td>\n",
       "    </tr>\n",
       "    <tr>\n",
       "      <th>1</th>\n",
       "      <td>1</td>\n",
       "      <td>1_COLMAR HC U18M-EPINAL U18M.pdf</td>\n",
       "      <td>EPINAL U18M</td>\n",
       "      <td>20</td>\n",
       "      <td>31</td>\n",
       "      <td>-11</td>\n",
       "      <td>25</td>\n",
       "      <td>10</td>\n",
       "      <td>2</td>\n",
       "      <td>1</td>\n",
       "      <td>0</td>\n",
       "      <td>1</td>\n",
       "      <td>5.92</td>\n",
       "      <td>4.17</td>\n",
       "      <td>2.96</td>\n",
       "      <td>7.12</td>\n",
       "      <td>0.62</td>\n",
       "      <td>7</td>\n",
       "      <td>7.428571</td>\n",
       "    </tr>\n",
       "    <tr>\n",
       "      <th>2</th>\n",
       "      <td>1</td>\n",
       "      <td>1_ENT RIED'HANDBALL U18M-STRASBOURG&amp;SCHILTIGHE...</td>\n",
       "      <td>ENT RIED'HANDBALL U18M</td>\n",
       "      <td>36</td>\n",
       "      <td>30</td>\n",
       "      <td>6</td>\n",
       "      <td>29</td>\n",
       "      <td>15</td>\n",
       "      <td>4</td>\n",
       "      <td>1</td>\n",
       "      <td>0</td>\n",
       "      <td>3</td>\n",
       "      <td>47.72</td>\n",
       "      <td>10.22</td>\n",
       "      <td>1.67</td>\n",
       "      <td>7.23</td>\n",
       "      <td>0.37</td>\n",
       "      <td>11</td>\n",
       "      <td>11.454545</td>\n",
       "    </tr>\n",
       "    <tr>\n",
       "      <th>3</th>\n",
       "      <td>1</td>\n",
       "      <td>1_ENT RIED'HANDBALL U18M-STRASBOURG&amp;SCHILTIGHE...</td>\n",
       "      <td>STRASBOURG&amp;SCHILTIGHEIM U18M2</td>\n",
       "      <td>30</td>\n",
       "      <td>36</td>\n",
       "      <td>-6</td>\n",
       "      <td>20</td>\n",
       "      <td>17</td>\n",
       "      <td>2</td>\n",
       "      <td>2</td>\n",
       "      <td>0</td>\n",
       "      <td>1</td>\n",
       "      <td>2.07</td>\n",
       "      <td>10.22</td>\n",
       "      <td>1.94</td>\n",
       "      <td>6.77</td>\n",
       "      <td>0.43</td>\n",
       "      <td>11</td>\n",
       "      <td>12.000000</td>\n",
       "    </tr>\n",
       "    <tr>\n",
       "      <th>4</th>\n",
       "      <td>1</td>\n",
       "      <td>1_THIONVILLE U18M-BASSIN MUSSIPONTAIN U18M.pdf</td>\n",
       "      <td>THIONVILLE U18M</td>\n",
       "      <td>28</td>\n",
       "      <td>26</td>\n",
       "      <td>2</td>\n",
       "      <td>9</td>\n",
       "      <td>17</td>\n",
       "      <td>0</td>\n",
       "      <td>1</td>\n",
       "      <td>0</td>\n",
       "      <td>3</td>\n",
       "      <td>59.37</td>\n",
       "      <td>0.63</td>\n",
       "      <td>2.09</td>\n",
       "      <td>8.48</td>\n",
       "      <td>0.40</td>\n",
       "      <td>6</td>\n",
       "      <td>29.666667</td>\n",
       "    </tr>\n",
       "    <tr>\n",
       "      <th>5</th>\n",
       "      <td>1</td>\n",
       "      <td>1_THIONVILLE U18M-BASSIN MUSSIPONTAIN U18M.pdf</td>\n",
       "      <td>BASSIN MUSSIPONTAIN U18M</td>\n",
       "      <td>26</td>\n",
       "      <td>28</td>\n",
       "      <td>-2</td>\n",
       "      <td>13</td>\n",
       "      <td>7</td>\n",
       "      <td>4</td>\n",
       "      <td>2</td>\n",
       "      <td>0</td>\n",
       "      <td>1</td>\n",
       "      <td>0.00</td>\n",
       "      <td>0.63</td>\n",
       "      <td>2.27</td>\n",
       "      <td>5.93</td>\n",
       "      <td>0.15</td>\n",
       "      <td>10</td>\n",
       "      <td>7.000000</td>\n",
       "    </tr>\n",
       "  </tbody>\n",
       "</table>\n",
       "</div>"
      ],
      "text/plain": [
       "   Journée                                            fichier  \\\n",
       "0        1                   1_COLMAR HC U18M-EPINAL U18M.pdf   \n",
       "1        1                   1_COLMAR HC U18M-EPINAL U18M.pdf   \n",
       "2        1  1_ENT RIED'HANDBALL U18M-STRASBOURG&SCHILTIGHE...   \n",
       "3        1  1_ENT RIED'HANDBALL U18M-STRASBOURG&SCHILTIGHE...   \n",
       "4        1     1_THIONVILLE U18M-BASSIN MUSSIPONTAIN U18M.pdf   \n",
       "5        1     1_THIONVILLE U18M-BASSIN MUSSIPONTAIN U18M.pdf   \n",
       "\n",
       "                          equipe  Nbre_Buts_marqués  Nbre_Buts_encaissés  \\\n",
       "0                 COLMAR HC U18M                 31                   20   \n",
       "1                    EPINAL U18M                 20                   31   \n",
       "2         ENT RIED'HANDBALL U18M                 36                   30   \n",
       "3  STRASBOURG&SCHILTIGHEIM U18M2                 30                   36   \n",
       "4                THIONVILLE U18M                 28                   26   \n",
       "5       BASSIN MUSSIPONTAIN U18M                 26                   28   \n",
       "\n",
       "   Diff_buts  Nb_Tirs  Nb_arrets  Nb_2min  Nb_Av  Nb_Dis  Points  \\\n",
       "0         11       21          6        3      2       0       3   \n",
       "1        -11       25         10        2      1       0       1   \n",
       "2          6       29         15        4      1       0       3   \n",
       "3         -6       20         17        2      2       0       1   \n",
       "4          2        9         17        0      1       0       3   \n",
       "5         -2       13          7        4      2       0       1   \n",
       "\n",
       "   Temps_en_tête  Temps_égalité  Temps_moy_entre_2buts  Temps_max_entre_2buts  \\\n",
       "0          49.92           4.17                   1.91                   4.78   \n",
       "1           5.92           4.17                   2.96                   7.12   \n",
       "2          47.72          10.22                   1.67                   7.23   \n",
       "3           2.07          10.22                   1.94                   6.77   \n",
       "4          59.37           0.63                   2.09                   8.48   \n",
       "5           0.00           0.63                   2.27                   5.93   \n",
       "\n",
       "   Temps_min_entre_2buts  nb_marqueurs  Collectif  \n",
       "0                   0.38            10  11.600000  \n",
       "1                   0.62             7   7.428571  \n",
       "2                   0.37            11  11.454545  \n",
       "3                   0.43            11  12.000000  \n",
       "4                   0.40             6  29.666667  \n",
       "5                   0.15            10   7.000000  "
      ]
     },
     "execution_count": 10,
     "metadata": {},
     "output_type": "execute_result"
    }
   ],
   "source": [
    "df_stat"
   ]
  },
  {
   "cell_type": "code",
   "execution_count": 11,
   "id": "9c535c28",
   "metadata": {},
   "outputs": [],
   "source": [
    "Journées = sorted(df_stat['Journée'].unique())"
   ]
  },
  {
   "cell_type": "code",
   "execution_count": 12,
   "id": "cd42e020",
   "metadata": {
    "scrolled": true,
    "tags": []
   },
   "outputs": [],
   "source": [
    "classement ={}\n",
    "for j in Journées:\n",
    "    classe= pd.pivot_table(df_stat[df_stat['Journée']<=j], index='equipe',values=['Points','Diff_buts'],aggfunc='sum')\n",
    "    classe.sort_values(by=['Points','Diff_buts'],ascending=False, inplace=True)\n",
    "    classement[j]=classe"
   ]
  },
  {
   "cell_type": "code",
   "execution_count": 13,
   "id": "56361047",
   "metadata": {
    "scrolled": true
   },
   "outputs": [],
   "source": [
    "lst_equipe = df_stat['equipe'].unique()"
   ]
  },
  {
   "cell_type": "code",
   "execution_count": 25,
   "id": "91db49eb",
   "metadata": {},
   "outputs": [],
   "source": [
    "def plot_(Equipe_Analysée='EPINAL U18M'):\n",
    "    stat_eq = df_stat[df_stat['equipe']==Equipe_Analysée].sort_values(by='Journée')\n",
    "    fig,ax = plt.subplots(3, 2,figsize=(21,12),facecolor=(0.5,0.5,0.5))\n",
    "    fig.suptitle(Equipe_Analysée,color=(1,1,1),size=35)\n",
    "    #\n",
    "    # EVOLUTION FORME\n",
    "    clas = []\n",
    "    for j in Journées:\n",
    "        lst = classement[j].index.to_list()\n",
    "        clas.append(lst.index(Equipe_Analysée)+1)\n",
    "    x,y = 0,0\n",
    "    ax[x,y].plot(Journées,clas,linestyle='-',c='b',marker='o')\n",
    "    ax[x,y].bar(stat_eq['Journée'],stat_eq['Diff_buts'])\n",
    "    ax[x,y].set_title(\"Evolution\",color=(1,1,1))\n",
    "    ax[x,y].grid()\n",
    "    ax[x,y].set_xticks([x for x in range(1,23,1)])\n",
    "    ax[x,y].set_yticks([x for x in range(-25,25,5)])\n",
    "    ax[x,y].set_ylim([-25, 25])\n",
    "    ax[x,y].legend(['Position au Classement','Diff_buts'])\n",
    "    #\n",
    "    # STAT\n",
    "    x,y = 0,1\n",
    "    ax[x,y].plot(stat_eq['Journée'],stat_eq['Nbre_Buts_marqués'],linestyle='-',c='b',marker='o')\n",
    "    ax[x,y].plot(stat_eq['Journée'],stat_eq['Nbre_Buts_encaissés'],linestyle='-',c='r',marker='s')\n",
    "    ax[x,y].plot(stat_eq['Journée'],stat_eq['Nb_arrets'],linestyle='-',c='g',marker='*')\n",
    "    ax[x,y].set_title(\"Statistiques\",color=(1,1,1))\n",
    "    ax[x,y].grid()\n",
    "    ax[x,y].set_xticks([x for x in range(1,23,1)])\n",
    "    ax[x,y].set_yticks([x for x in range(0,50,10)])\n",
    "    ax[x,y].legend(['Nbre_Buts_marqués','Nbre_Buts_encaissés','Nb_arrets'])\n",
    "    #\n",
    "    # DISCIPLINE\n",
    "    x,y = 1,1\n",
    "    ax[x,y].plot(stat_eq['Journée'],stat_eq['Nb_Dis'],linestyle='-',c='b',marker='o')\n",
    "    ax[x,y].plot(stat_eq['Journée'],stat_eq['Nb_2min'],linestyle='-',c='r',marker='s')\n",
    "    ax[x,y].plot(stat_eq['Journée'],stat_eq['Nb_Av'],linestyle='-',c='g',marker='*')\n",
    "    ax[x,y].set_title(\"Discipline\",color=(1,1,1))\n",
    "    ax[x,y].grid()\n",
    "    ax[x,y].set_xticks([x for x in range(1,23,1)])\n",
    "    ax[x,y].set_yticks([x for x in range(0,10,1)])\n",
    "    ax[x,y].legend(['Nb_Dis','Nb_2min','Nb_Av'])\n",
    "    #\n",
    "    # RESILIENCE\n",
    "    x,y = 1,0\n",
    "    for j,diff,t in zip(stat_eq['Journée'],stat_eq['Diff_buts'],stat_eq['Temps_en_tête']):\n",
    "        if diff>0: col ='g'\n",
    "        elif diff<0: col ='r'\n",
    "        else: col='y'\n",
    "        ax[x,y].bar(j,t,color=col)\n",
    "    #ax[x,y].text(stat_eq['Journée'],stat_eq['Temps_en_tête'],stat_eq['Diff_buts'])\n",
    "    ax[x,y].set_title(\"Resilience\",color=(1,1,1))\n",
    "    ax[x,y].grid()\n",
    "    ax[x,y].set_xticks([x for x in range(1,23,1)])\n",
    "    if stat_eq.iloc[0]['Diff_buts']>0:\n",
    "        ax[x,y].legend(['Temps_en_tête, match gagné','Temps_en_tête, match perdu'])\n",
    "    elif stat_eq.iloc[0]['Diff_buts']<0:\n",
    "        ax[x,y].legend(['Temps_en_tête, match perdu','Temps_en_tête, match gagné'])\n",
    "    #\n",
    "    # REGULARITE\n",
    "    x,y = 2,0\n",
    "    ax[x,y].plot(stat_eq['Journée'],stat_eq['Temps_moy_entre_2buts'],linestyle='-',c='b',marker='o')\n",
    "    ax[x,y].plot(stat_eq['Journée'],stat_eq['Temps_min_entre_2buts'],linestyle='-',c='r',marker='s')\n",
    "    ax[x,y].plot(stat_eq['Journée'],stat_eq['Temps_max_entre_2buts'],linestyle='-',c='g',marker='*')\n",
    "    ax[x,y].set_title(\"Regularité\",color=(1,1,1))\n",
    "    ax[x,y].grid()\n",
    "    ax[x,y].set_xticks([x for x in range(1,23,1)])\n",
    "    ax[x,y].set_yticks([x for x in range(0,16,2)])\n",
    "    ax[x,y].legend(['Temps_moy_entre_2buts','Temps_min_entre_2buts','Temps_max_entre_2buts'])\n",
    "    #\n",
    "    # COLLECTIF\n",
    "    x,y = 2,1\n",
    "    ax[x,y].plot(stat_eq['Journée'],stat_eq['nb_marqueurs'],linestyle='-',c='b',marker='o')\n",
    "    ax[x,y].plot(stat_eq['Journée'],stat_eq['Collectif'],linestyle='-',c='g',marker='s')\n",
    "    ax[x,y].set_title(\"Collectif\",color=(1,1,1))\n",
    "    ax[x,y].grid()\n",
    "    ax[x,y].set_xticks([x for x in range(1,23,1)])\n",
    "    ax[x,y].set_yticks([x for x in range(0,45,5)])\n",
    "    ax[x,y].legend(['nb_marqueurs','Collectif'])\n",
    "    fig.savefig('./ANALYSE/'+Equipe_Analysée+\".jpg\", dpi=400)"
   ]
  },
  {
   "cell_type": "code",
   "execution_count": 27,
   "id": "5694bef9-5f21-44fa-8c3a-0ac80d733d61",
   "metadata": {},
   "outputs": [
    {
     "data": {
      "application/vnd.jupyter.widget-view+json": {
       "model_id": "7a3bab177b904f1ea5221039aa2d0c45",
       "version_major": 2,
       "version_minor": 0
      },
      "text/plain": [
       "interactive(children=(Dropdown(description='Equipe_Analysée', index=1, options=('COLMAR HC U18M', 'EPINAL U18M…"
      ]
     },
     "metadata": {},
     "output_type": "display_data"
    },
    {
     "data": {
      "text/plain": [
       "<function __main__.plot_(Equipe_Analysée='EPINAL U18M')>"
      ]
     },
     "execution_count": 27,
     "metadata": {},
     "output_type": "execute_result"
    }
   ],
   "source": [
    "widgets.interact(plot_, Equipe_Analysée=lst_equipe)"
   ]
  },
  {
   "cell_type": "markdown",
   "id": "9b240ecc",
   "metadata": {},
   "source": [
    "# All Teams"
   ]
  },
  {
   "cell_type": "code",
   "execution_count": 30,
   "id": "7cd5f969",
   "metadata": {},
   "outputs": [],
   "source": [
    "def plot_class(Equipe_Analysée='EPINAL U18M'): \n",
    "    fi =plt.figure(figsize=(21,12))\n",
    "    for e in lst_equipe:\n",
    "        #stat_eq = df_stat[df_stat['equipe']==e].sort_values(by='Journée')\n",
    "        if e==Equipe_Analysée:\n",
    "            clas = []\n",
    "            for j in Journées:\n",
    "                lst = classement[j].index.to_list()\n",
    "                clas.append(lst.index(e)+1)\n",
    "            plt.plot(Journées,clas,linestyle='-',linewidth=5,marker='o')\n",
    "        else:\n",
    "            clas = []\n",
    "            for j in Journées:\n",
    "                lst = classement[j].index.to_list()\n",
    "                clas.append(lst.index(e)+1)\n",
    "            plt.plot(Journées,clas,linestyle='-',linewidth=2,marker='o')\n",
    "\n",
    "    plt.grid()\n",
    "    plt.legend(lst_equipe)\n",
    "    plt.xlabel('Journée')\n",
    "    plt.ylabel('Position au Classment')\n",
    "    plt.yticks([x for x in range(1,13,1)])"
   ]
  },
  {
   "cell_type": "code",
   "execution_count": 31,
   "id": "de603da5-962a-44b2-a114-3d91021b5457",
   "metadata": {},
   "outputs": [
    {
     "data": {
      "application/vnd.jupyter.widget-view+json": {
       "model_id": "d0e3bd6c123a438b89f5cb08e5adbaec",
       "version_major": 2,
       "version_minor": 0
      },
      "text/plain": [
       "interactive(children=(Dropdown(description='Equipe_Analysée', index=1, options=('COLMAR HC U18M', 'EPINAL U18M…"
      ]
     },
     "metadata": {},
     "output_type": "display_data"
    },
    {
     "data": {
      "text/plain": [
       "<function __main__.plot_class(Equipe_Analysée='EPINAL U18M')>"
      ]
     },
     "execution_count": 31,
     "metadata": {},
     "output_type": "execute_result"
    }
   ],
   "source": [
    "widgets.interact(plot_class, Equipe_Analysée=lst_equipe)"
   ]
  },
  {
   "cell_type": "code",
   "execution_count": 34,
   "id": "74dd8ea4",
   "metadata": {
    "tags": []
   },
   "outputs": [],
   "source": [
    "def plot_nbmarqueurs(Equipe_Analysée='EPINAL U18M'):\n",
    "    fi =plt.figure(figsize=(21,12))\n",
    "    for e in lst_equipe:\n",
    "        stat_eq = df_stat[df_stat['equipe']==e].sort_values(by='Journée')\n",
    "        if e==Equipe_Analysée:\n",
    "            plt.plot(stat_eq['Journée'],stat_eq['nb_marqueurs'],linestyle='-',linewidth=5,marker='o')\n",
    "        else:\n",
    "            plt.plot(stat_eq['Journée'],stat_eq['nb_marqueurs'],linestyle='-',linewidth=1,marker='o')\n",
    "    plt.grid()\n",
    "    plt.legend(lst_equipe)\n",
    "    plt.xlabel('Journée')\n",
    "    plt.ylabel('Nombre de marqeurs')\n",
    "    plt.yticks([x for x in range(1,13,1)])"
   ]
  },
  {
   "cell_type": "code",
   "execution_count": 35,
   "id": "03dde330-845f-49e3-9f06-bd70a13d9e6b",
   "metadata": {},
   "outputs": [
    {
     "data": {
      "application/vnd.jupyter.widget-view+json": {
       "model_id": "58234dd78907411cae659087700e5c2d",
       "version_major": 2,
       "version_minor": 0
      },
      "text/plain": [
       "interactive(children=(Dropdown(description='Equipe_Analysée', index=1, options=('COLMAR HC U18M', 'EPINAL U18M…"
      ]
     },
     "metadata": {},
     "output_type": "display_data"
    },
    {
     "data": {
      "text/plain": [
       "<function __main__.plot_nbmarqueurs(Equipe_Analysée='EPINAL U18M')>"
      ]
     },
     "execution_count": 35,
     "metadata": {},
     "output_type": "execute_result"
    }
   ],
   "source": [
    "widgets.interact(plot_nbmarqueurs, Equipe_Analysée=lst_equipe)"
   ]
  },
  {
   "cell_type": "code",
   "execution_count": 39,
   "id": "bafff8b2",
   "metadata": {},
   "outputs": [],
   "source": [
    "def plot_collectif(Equipe_Analysée='EPINAL U18M'):\n",
    "    fi =plt.figure(figsize=(21,12))\n",
    "    coll={}\n",
    "    for e in lst_equipe:\n",
    "        stat_eq = df_stat[df_stat['equipe']==e].sort_values(by='Journée')\n",
    "        if e==Equipe_Analysée:\n",
    "            plt.plot(stat_eq['Journée'],stat_eq['Collectif'],linestyle='-',linewidth=5,marker='o')\n",
    "        else:\n",
    "            plt.plot(stat_eq['Journée'],stat_eq['Collectif'],linestyle='-',linewidth=1,marker='o')\n",
    "        print(\"Collectif moyen de\",e,round(stat_eq['Collectif'].mean(),1))\n",
    "        coll[e]=round(stat_eq['Collectif'].mean(),1)\n",
    "    plt.grid()\n",
    "    plt.legend(lst_equipe)\n",
    "    plt.xlabel('Journée')\n",
    "    plt.ylabel('Collectif moyen')\n",
    "    #plt.yticks([x for x in range(1,13,1)])"
   ]
  },
  {
   "cell_type": "code",
   "execution_count": 40,
   "id": "a9a63ffb-5978-4e93-8d4d-a5bc8fe87cb6",
   "metadata": {},
   "outputs": [
    {
     "data": {
      "application/vnd.jupyter.widget-view+json": {
       "model_id": "03274cb4a809485eab25328981dfcffe",
       "version_major": 2,
       "version_minor": 0
      },
      "text/plain": [
       "interactive(children=(Dropdown(description='Equipe_Analysée', index=1, options=('COLMAR HC U18M', 'EPINAL U18M…"
      ]
     },
     "metadata": {},
     "output_type": "display_data"
    },
    {
     "data": {
      "text/plain": [
       "<function __main__.plot_collectif(Equipe_Analysée='EPINAL U18M')>"
      ]
     },
     "execution_count": 40,
     "metadata": {},
     "output_type": "execute_result"
    }
   ],
   "source": [
    "widgets.interact(plot_collectif, Equipe_Analysée=lst_equipe)"
   ]
  },
  {
   "cell_type": "code",
   "execution_count": 42,
   "id": "b24f3231",
   "metadata": {},
   "outputs": [],
   "source": [
    "def plot_compare(Equipe_Analysée='EPINAL U18M',critere =''):\n",
    "    fi =plt.figure(figsize=(21,12))\n",
    "    coll={}\n",
    "    for e in lst_equipe:\n",
    "        stat_eq = df_stat[df_stat['equipe']==e].sort_values(by='Journée')\n",
    "        if e==Equipe_Analysée:\n",
    "            plt.plot(stat_eq['Journée'],stat_eq['Collectif'],linestyle='-',linewidth=5,marker='o')\n",
    "        else:\n",
    "            plt.plot(stat_eq['Journée'],stat_eq['Collectif'],linestyle='-',linewidth=1,marker='o')\n",
    "        print(\"Collectif moyen de\",e,round(stat_eq['Collectif'].mean(),1))\n",
    "        coll[e]=round(stat_eq['Collectif'].mean(),1)\n",
    "    plt.grid()\n",
    "    plt.legend(lst_equipe)\n",
    "    plt.xlabel('Journée')\n",
    "    plt.ylabel('Position au Classment')\n",
    "    #plt.yticks([x for x in range(1,13,1)])"
   ]
  },
  {
   "cell_type": "code",
   "execution_count": null,
   "id": "4fb5b67f",
   "metadata": {},
   "outputs": [],
   "source": []
  },
  {
   "cell_type": "code",
   "execution_count": null,
   "id": "336809ca",
   "metadata": {},
   "outputs": [],
   "source": []
  },
  {
   "cell_type": "code",
   "execution_count": null,
   "id": "02191886",
   "metadata": {},
   "outputs": [],
   "source": []
  }
 ],
 "metadata": {
  "kernelspec": {
   "display_name": "Python 3 (ipykernel)",
   "language": "python",
   "name": "python3"
  },
  "language_info": {
   "codemirror_mode": {
    "name": "ipython",
    "version": 3
   },
   "file_extension": ".py",
   "mimetype": "text/x-python",
   "name": "python",
   "nbconvert_exporter": "python",
   "pygments_lexer": "ipython3",
   "version": "3.9.5"
  }
 },
 "nbformat": 4,
 "nbformat_minor": 5
}
