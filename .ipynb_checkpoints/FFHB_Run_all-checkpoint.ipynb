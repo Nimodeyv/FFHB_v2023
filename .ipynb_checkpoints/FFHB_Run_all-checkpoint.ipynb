{
 "cells": [
  {
   "cell_type": "code",
   "execution_count": null,
   "id": "21867183-0eb3-42c4-a2da-630350178cc8",
   "metadata": {},
   "outputs": [],
   "source": [
    "%run _1_FFHB_Match_Crawling_v2.8.ipynb"
   ]
  },
  {
   "cell_type": "code",
   "execution_count": null,
   "id": "e7ef28c2-92be-4733-a42d-09f190a72f6d",
   "metadata": {},
   "outputs": [],
   "source": [
    "%run _2_FFHB_Calcul_Classement_v2.7.ipynb"
   ]
  }
 ],
 "metadata": {
  "kernelspec": {
   "display_name": "Python 3 (ipykernel)",
   "language": "python",
   "name": "python3"
  },
  "language_info": {
   "codemirror_mode": {
    "name": "ipython",
    "version": 3
   },
   "file_extension": ".py",
   "mimetype": "text/x-python",
   "name": "python",
   "nbconvert_exporter": "python",
   "pygments_lexer": "ipython3",
   "version": "3.9.5"
  }
 },
 "nbformat": 4,
 "nbformat_minor": 5
}
