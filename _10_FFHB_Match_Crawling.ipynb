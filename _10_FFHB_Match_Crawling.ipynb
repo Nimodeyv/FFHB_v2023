{
 "cells": [
  {
   "cell_type": "markdown",
   "id": "c1d390a9-1b44-4a3a-8e02-5ccace4140c2",
   "metadata": {
    "tags": []
   },
   "source": [
    "#  <img src=\"./logo_transparent.png\" width=\"70\"> Step1 - Crawling des datas du championnat <img src=\"./logoffhb.png\" width=\"100\"> "
   ]
  },
  {
   "cell_type": "code",
   "execution_count": 1,
   "id": "de9893d6-186c-47e7-bd39-5672056f1038",
   "metadata": {},
   "outputs": [],
   "source": [
    "# v2.8 intègre la sélection des journées avec ipywidgets"
   ]
  },
  {
   "cell_type": "code",
   "execution_count": 1,
   "id": "b8e8aab5-0e35-4fa7-80c0-b8c8f0e8bf12",
   "metadata": {},
   "outputs": [],
   "source": [
    "from selenium import webdriver\n",
    "from selenium.webdriver.common.by import By\n",
    "from urllib.request import urlretrieve\n",
    "import time, datetime\n",
    "import re\n",
    "import csv\n",
    "import sqlite3\n",
    "import glob, os\n",
    "import ipywidgets as widgets\n",
    "from IPython.display import display"
   ]
  },
  {
   "cell_type": "code",
   "execution_count": 3,
   "id": "e319d3a5-8f36-492b-a7db-ed2ef28bc2ba",
   "metadata": {},
   "outputs": [
    {
     "name": "stdout",
     "output_type": "stream",
     "text": [
      "Nombre de matchs déjà analysés:  0\n"
     ]
    }
   ],
   "source": [
    "# Liste de tous les matchs extraits\n",
    "lst= glob.glob(\".\\FDM\\*.pdf\")\n",
    "print(\"Nombre de matchs déjà analysés: \",len(lst))\n",
    "lst = [l.replace('FDM\\\\',\"\").replace('.sqlite','.pdf') for l in lst]"
   ]
  },
  {
   "cell_type": "code",
   "execution_count": 4,
   "id": "bef8612e-bf42-4b56-bd6a-f32e35bb0baa",
   "metadata": {},
   "outputs": [],
   "source": [
    "def load_data(j0,j1):\n",
    "    # install chrome web driver https://sites.google.com/a/chromium.org/chromedriver/downloads\n",
    "    PATH = \"C:\\Program Files\\chromedriver\\chromedriver.exe\"\n",
    "    driver = webdriver.Chrome(PATH)\n",
    "    #\n",
    "    # Pointing to the targeted poule\n",
    "    driver.get(\"https://www.ffhandball.fr/fr/competition/20405#poule-109164\")\n",
    "    time.sleep(1)\n",
    "    #\n",
    "    # Close the window that is opening when opening from chrome machine\n",
    "    Path = '//*[@id=\"didomi-notice-agree-button\"]'\n",
    "    driver.find_element(By.XPATH, Path).click()\n",
    "    time.sleep(1)\n",
    "    content = driver.find_element_by_class_name('l-page-content')\n",
    "    content.click()\n",
    "    time.sleep(2)\n",
    "    counter = 0\n",
    "    TXT= list()\n",
    "    dir=os.path.abspath('.\\FDM')\n",
    "    #\n",
    "    for j in range(j0-1,j1):\n",
    "        try:\n",
    "            XPATH = \"//*[@class='s-fixtures-calendar-day ' and text()=\"+str(j+1)+\"]\"\n",
    "            journee = driver.find_element_by_xpath(XPATH)\n",
    "            journee.click()\n",
    "            time.sleep(2)\n",
    "        except:\n",
    "            XPATH = \"//*[@class='s-fixtures-calendar-day s-fixtures-calendar-day--current-date' and text()=\"+str(j+1)+\"]\"\n",
    "            journee = driver.find_element_by_xpath(XPATH)\n",
    "            journee.click()\n",
    "            time.sleep(2)\n",
    "        # Affiche le titre et le contenu texte de la page\n",
    "        text = driver.page_source\n",
    "        text2=text.split('<div class=\"s-fixtures-table-row\">')\n",
    "        #\n",
    "        if counter == 0 :\n",
    "            print(driver.title)\n",
    "            Ligue = re.findall('<div class=\"m-standings__title\">(.+?)</div>',text) # Ligue\n",
    "            print(Ligue[0])\n",
    "            Poule = re.findall('<span class=\"js-dropdown__current b-dropdown-custom__button\">(.+?)</span>',text) # Poule\n",
    "            print(Poule[0])\n",
    "        Periode = re.findall('<div class=\"s-fixtures-table__title\">(.+?)</div>',text) # Date période des journées\n",
    "        print(Periode)\n",
    "        #\n",
    "        for l in text2[1:]:\n",
    "                m = dict()\n",
    "                Date = re.findall('<p class=\"s-fixtures-table-cell-row__date\">(.+?)</p>',l) # Date journée\n",
    "                Match = re.findall('<p class=\"s-fixtures-table-cell-row__name\">(.+?)</p>',l) # Match\n",
    "                Score = list()\n",
    "                for i in re.findall('<p class=\"s-fixtures-table-cell-row__result(.+?)</p>',l):\n",
    "                    Score.append(re.findall('>(.+)',i))\n",
    "                Infos = re.findall('<p class=\"s-fixtures-table-cell-list__item\">(.+?)</p>',l) # Match\n",
    "                FDM = re.findall('<a href=\"(.+?)\" class=\"s-fixtures-table-cell-button\" target=\"_blank\">FDM</a>',l) # Lien fichier feuille de match\n",
    "                title = str(j+1)+\"_\"+Match[0].replace('/','&')+\"-\"+Match[1].replace('/','&')+\".pdf\"\n",
    "                # print(Date, Match,Infos)\n",
    "                print(FDM,title)\n",
    "                if (FDM != []) & (title not in lst):\n",
    "                    path = os.path.join(dir,title)\n",
    "                    urlretrieve(FDM[0],path)\n",
    "                    # Enregistre le match sous pdf\n",
    "                m['Periode']=Periode[0]\n",
    "                m['Journee']=j+1\n",
    "                m['Date']=Date[0]\n",
    "                m['fichier']=title\n",
    "                m['equipe_dom']=Match[0].replace('/','&')\n",
    "                m['equipe_ext']=Match[1].replace('/','&')\n",
    "                m['lieu']=Infos[0]+\" \"+Infos[1]+\" \"+Infos[2]\n",
    "                m['arbitres']=Infos[4]+\" \"+Infos[5]\n",
    "                if Score[0][0]=='FO':\n",
    "                    m['score_dom']=-1 # On met un score de -1 si forfait\n",
    "                    m['score_ext']=int(Score[1][0])\n",
    "                    m['diff_buts']=0-int(Score[1][0])\n",
    "                elif Score[1][0]=='FO':\n",
    "                    m['score_dom']=int(Score[0][0])\n",
    "                    m['score_ext']=-1\n",
    "                    m['diff_buts']=int(Score[0][0])-0\n",
    "                elif Score[0][0]!='--' and Score[1][0]!='--':\n",
    "                    m['score_dom']=int(Score[0][0])\n",
    "                    m['score_ext']=int(Score[1][0])\n",
    "                    m['diff_buts']=int(Score[0][0])-int(Score[1][0])\n",
    "                else:\n",
    "                    m['score_dom']=\"\"\n",
    "                    m['score_ext']=\"\"\n",
    "                    m['diff_buts']=\"\"\n",
    "                TXT.append(m)\n",
    "        counter = 1\n",
    "    driver.close()\n",
    "    # SAVE in SQLITE Files\n",
    "    conn = sqlite3.connect('Championnat_U18_GrandEst.sqlite')\n",
    "    cur = conn.cursor()\n",
    "    cur.execute('''CREATE TABLE IF NOT EXISTS Matchs  (\n",
    "        fichier TEXT NOT NULL PRIMARY KEY UNIQUE,\n",
    "        Journee INTEGER,\n",
    "        Periode TEXT,\n",
    "        Date TEXT,\n",
    "        equipe_dom TEXT,\n",
    "        equipe_ext TEXT,\n",
    "        score_dom INTEGER,\n",
    "        score_ext INTEGER,\n",
    "        diff_buts INTEGER,\n",
    "        lieu TEXT,\n",
    "        arbitres TEXT\n",
    "        )''')\n",
    "    for m in TXT:\n",
    "        cur.execute('''INSERT OR REPLACE INTO Matchs (fichier,Journee, Periode, Date, equipe_dom, equipe_ext,score_dom,score_ext,diff_buts,lieu,arbitres)\n",
    "            VALUES (?,?,?,?,?,?,?,?,?,?,?)''', (m['fichier'],m['Journee'],m['Periode'],m['Date'],m['equipe_dom'],m['equipe_ext'],m['score_dom'],m['score_ext'],m['diff_buts'],m['lieu'],m['arbitres']))\n",
    "    #\n",
    "    conn.commit()\n",
    "    conn.close()\n",
    "    # SAVE IN CSV FILE\n",
    "    #file = \"Matchs_\"+Ligue[0]+\".csv\"\n",
    "    #keys = TXT[0].keys()\n",
    "    #a_file = open(file, \"w\")\n",
    "    ##dict_writer = csv.DictWriter(a_file, keys)\n",
    "    #dict_writer.writeheader()\n",
    "    #dict_writer.writerows(TXT)\n",
    "    #a_file.close()\n",
    "    #\n",
    "    print('Task completed ')\n"
   ]
  },
  {
   "cell_type": "code",
   "execution_count": 2,
   "id": "ceb11b63-656d-4260-8ca9-470cc90b6f8d",
   "metadata": {},
   "outputs": [],
   "source": [
    "conn = sqlite3.connect('Championnat_U18_GrandEst.sqlite')\n",
    "cur = conn.cursor()\n",
    "cur.execute('SELECT * FROM Matchs')\n",
    "rows = cur.fetchall()\n",
    "Matchs =list()\n",
    "for row in rows:\n",
    "    m = dict()\n",
    "    # m['fichier']=row[0]\n",
    "    m['Journee']=row[1]\n",
    "    m['Periode']=row[2]\n",
    "    m['Date']=row[3]\n",
    "    # m['equipe_dom']=row[4]\n",
    "    # m['equipe_ext']=row[5]\n",
    "    # m['score_dom']=row[6]\n",
    "    # m['score_ext']=row[7]\n",
    "    # m['diff_buts']=row[8]\n",
    "    # m['lieu']=row[9]\n",
    "    # m['arbitres']=row[10]\n",
    "    Matchs.append(m)"
   ]
  },
  {
   "cell_type": "code",
   "execution_count": 7,
   "id": "b85e0f4a-7e83-4263-9083-ae7defc4d866",
   "metadata": {},
   "outputs": [],
   "source": [
    "# Cherche la journée à venir le plus proche d'aujourd'ui\n",
    "today = datetime.datetime.now()\n",
    "lst =set([(p['Journee'],datetime.datetime.strptime(p['Periode'][9:], '%d/%m/%Y')) for p in Matchs])\n",
    "delta_pos =[(p[0],(p[1]-today).days) for p in lst]\n",
    "journee_laplus_proche = min(delta_pos, key=lambda t: abs(t[1]))[0]"
   ]
  },
  {
   "cell_type": "code",
   "execution_count": 5,
   "id": "9a3c2d2a-72b0-4ae8-85df-c41b231cdfae",
   "metadata": {},
   "outputs": [
    {
     "name": "stdout",
     "output_type": "stream",
     "text": [
      "Entrez la premiere journée j0 (incluse) et la dernère journée j1 à scraper (incluse):\n"
     ]
    },
    {
     "data": {
      "application/vnd.jupyter.widget-view+json": {
       "model_id": "6eb37770167a4e06b3eefaaf4934bc8c",
       "version_major": 2,
       "version_minor": 0
      },
      "text/plain": [
       "interactive(children=(Dropdown(description='j0', options=(1, 2, 3, 4, 5, 6, 7, 8, 9, 10, 11, 12, 13, 14, 15, 1…"
      ]
     },
     "metadata": {},
     "output_type": "display_data"
    }
   ],
   "source": [
    "# Sélectionne le championnat et la journée\n",
    "print('Entrez la premiere journée j0 (incluse) et la dernère journée j1 à scraper (incluse):')\n",
    "jdebut = [j for j in range(1,23,1)]\n",
    "jfin = jdebut\n",
    "# ans=input('Entre la premiere journée (incluse) à scraper (par defaut 1):')\n",
    "# if ans==\"\": j0=1\n",
    "# else: j0=int(ans)\n",
    "# ans=input('Entre la derniere journée (incluse) à scraper (par défaut 22):')\n",
    "# if ans==\"\": j1=22\n",
    "# else: j1=int(ans)\n",
    "widgets.interact_manual(load_data, j0=widgets.Dropdown(value=journee_laplus_proche, options=jdebut),j1=widgets.Dropdown(value=journee_laplus_proche, options=jfin));\n",
    "# widgets.interact(load_data, j1=widgets.Dropdown(value=jfin[1], options=jfin));"
   ]
  },
  {
   "cell_type": "code",
   "execution_count": null,
   "id": "df3d248d-e13d-4875-879a-1404019c5c25",
   "metadata": {},
   "outputs": [],
   "source": []
  },
  {
   "cell_type": "code",
   "execution_count": null,
   "id": "6a51657c-0a8f-4d60-a36c-c098c875a684",
   "metadata": {},
   "outputs": [],
   "source": []
  }
 ],
 "metadata": {
  "kernelspec": {
   "display_name": "Python 3 (ipykernel)",
   "language": "python",
   "name": "python3"
  },
  "language_info": {
   "codemirror_mode": {
    "name": "ipython",
    "version": 3
   },
   "file_extension": ".py",
   "mimetype": "text/x-python",
   "name": "python",
   "nbconvert_exporter": "python",
   "pygments_lexer": "ipython3",
   "version": "3.9.5"
  }
 },
 "nbformat": 4,
 "nbformat_minor": 5
}
